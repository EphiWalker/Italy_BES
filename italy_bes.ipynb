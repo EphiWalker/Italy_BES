{
  "nbformat": 4,
  "nbformat_minor": 0,
  "metadata": {
    "colab": {
      "provenance": [],
      "authorship_tag": "ABX9TyMD2CrwHqvWxF3pBLKcovBF",
      "include_colab_link": true
    },
    "kernelspec": {
      "name": "python3",
      "display_name": "Python 3"
    },
    "language_info": {
      "name": "python"
    }
  },
  "cells": [
    {
      "cell_type": "markdown",
      "metadata": {
        "id": "view-in-github",
        "colab_type": "text"
      },
      "source": [
        "<a href=\"https://colab.research.google.com/github/EphiWalker/italy_bes/blob/main/italy_bes.ipynb\" target=\"_parent\"><img src=\"https://colab.research.google.com/assets/colab-badge.svg\" alt=\"Open In Colab\"/></a>"
      ]
    },
    {
      "cell_type": "markdown",
      "source": [
        "#Comparing BES Score of Tuscany with the Rest of Italy"
      ],
      "metadata": {
        "id": "m9W17iQHTV07"
      }
    },
    {
      "cell_type": "markdown",
      "source": [
        "I love Florence, and its surrounding region Tuscany. I've always wanted to go there to visit and perhaps live a year or two. But, I wonder, could there be other parts of Italy I should visit or live in rather than Florence?"
      ],
      "metadata": {
        "id": "9ezeoWkfTeuk"
      }
    },
    {
      "cell_type": "markdown",
      "source": [
        "##Italy's BES System\n",
        "BES(Benessere Equo e Sostenibile) is a system Italy uses to measure the well-being and sustainability of its societies across genders, age groups and provinces by taking measurements of 100+ indicators grouped under 12 fundamental domains like Social Relationships or Work-Life Balance. Instituto Nazionale di Statistica (the National Statistical Institute), abbreviated as Istat, carries out a survey each year to track the BES score of Italy across genders, age groups and geographical areas.  \n",
        "  \n",
        "    \n",
        "For this project, I'll be using the BES 2023 dataset compiled by Istat, which can be found [here](https://www.istat.it/en/well-being-and-sustainability/the-measurement-of-well-being/indicators)."
      ],
      "metadata": {
        "id": "tQtB7-orT9aD"
      }
    },
    {
      "cell_type": "markdown",
      "source": [
        "## A Little About the Dataset\n"
      ],
      "metadata": {
        "id": "vgUG5sfHLM3-"
      }
    },
    {
      "cell_type": "markdown",
      "source": [
        "### Domains\n",
        "Italy's BES system uses several \"indicators\" (such as life expectancy, homicide rate, air quality, etc) to track people's overall well-being each year. The latest dataset consists of 152 indicators. These indicators are grouped into 12 domains based on what part of society's life they're focused on (such as Health, Safety, Environment, etc)."
      ],
      "metadata": {
        "id": "TsRYMoHllxmW"
      }
    },
    {
      "cell_type": "markdown",
      "source": [
        "### Genders\n",
        "For applicable indicators, survey responses are divided between males and females and the total value is also given. For non-gendered indicators, only the total value is given."
      ],
      "metadata": {
        "id": "nk5FI7Nul9P7"
      }
    },
    {
      "cell_type": "markdown",
      "source": [
        "### Geographical Areas\n",
        "Italy has 100+ provinces which are grouped together to make up 20 adminstrative regions. These 20 regions are also clustered together based on their geographical location to make up the country's 5 macroregions: North-west, North-east, Centre, South, and Islands.\n",
        "\n",
        "Generally, the BES 2023 dataset doesn't contain information for each province. Instead, it records the data for the 20 regions and 5 macroregions. Certain exceptions may arise that I will explain in detail when neccessary."
      ],
      "metadata": {
        "id": "76TjZuZtmFBY"
      }
    },
    {
      "cell_type": "markdown",
      "source": [
        "##Table of Contents\n",
        "* Questions\n",
        "* Data Cleaning & Manipulation\n",
        "* Exploratory Data Analysis (EDA)\n",
        "* Conclusions"
      ],
      "metadata": {
        "id": "ypYvU77tjRLa"
      }
    },
    {
      "cell_type": "markdown",
      "source": [
        "## Questions Based on the Dataset\n",
        "\n",
        "Because my primary interest in Italy is in visiting or maybe staying there for a short period of time, I won't be exploring questions that have to do with long-term residence like life expectancy or job satisfaction. The questions I want answered are mainly related to the safety and beauty of the provinces.  \n",
        "\n",
        "1. Does a region's budget for cultural activities correlate with people's social and cultural participation?\n",
        "1. Does overall trust for other people correlate with social and cultural participation?\n",
        "2. Does the presence of urban parks and protected natural areas affect people's satisfaction in the environment?\n",
        "4. Does the presence of one crime suggest the likelihood of a different crime?\n",
        "5. Do road accidents happen more around regions with a higher density of heritages?\n",
        "7. What kind of relationship does life satisfaction have with trust in the police?\n",
        "8. Is life satisfaction affected by people's overall trust for each other and their satisfaction in the environment?\n",
        "10. Which criminal activity is most correlated with police trust?\n",
        "11. Does sexual violence on women affect people's perception of safety to walk alone in the dark?"
      ],
      "metadata": {
        "id": "AgIgEn3QYNOm"
      }
    },
    {
      "cell_type": "markdown",
      "source": [
        "## Closing Questions\n",
        "1. Based on my investigations, what are the top 3 regions in Italy I'd like to visit?\n",
        "2. What about the top 3 places I'd like to live in for about a year?\n",
        "3. From the clusters of provinces based on geography (North, South, Centre, etc), which geographical cluster would I like to live in?"
      ],
      "metadata": {
        "id": "_u5z-8Yj0AcW"
      }
    },
    {
      "cell_type": "markdown",
      "source": [
        "do road accidents happen more around historically significant regions?\n",
        "\n",
        "do reading and cultural participation have a relationship?\n",
        "\n",
        "general trust(does it depend on social and cultural participation?)  \n",
        "\n",
        "life satisfaction (do areas with a higher general trust and satisfaction for the environment have greater life satisfaction?)  \n",
        "\n",
        "satisfaction for the environment\n",
        "\n",
        "does the increase in different criminal activities correlate to an increase or decrease in police trust?  \n",
        "\n",
        "does general trust have a relationship with police trust?"
      ],
      "metadata": {
        "id": "36InnZNRsfw4"
      }
    },
    {
      "cell_type": "markdown",
      "source": [
        "##Data Cleaning & Manipulation\n",
        "In this section, I'll go through multiple steps from preparing my working enviornment to manipulating and cleaning the data for use."
      ],
      "metadata": {
        "id": "ySbOuxDLiqUX"
      }
    },
    {
      "cell_type": "markdown",
      "source": [
        "###Preparing the Enviornment"
      ],
      "metadata": {
        "id": "PD9B7z3RsqX0"
      }
    },
    {
      "cell_type": "markdown",
      "source": [
        "I'll start by loading the data from my own github repo for datasets I use in my projects."
      ],
      "metadata": {
        "id": "IDQn_NVMjo3h"
      }
    },
    {
      "cell_type": "code",
      "execution_count": 141,
      "metadata": {
        "id": "hIyUHbxjTRyX"
      },
      "outputs": [],
      "source": [
        "from pandas.core.tools.numeric import to_numeric\n",
        "import pandas as pd\n",
        "import numpy as np\n",
        "import matplotlib.pyplot as plt\n",
        "import seaborn as sns\n",
        "\n",
        "italy_bes = pd.read_excel('https://github.com/EphiWalker/datasets/raw/main/Indicators_region_gender.xlsx',\n",
        "                          decimal = ',') #specify decimal because Italy uses comma instead of periods for decimals"
      ]
    },
    {
      "cell_type": "markdown",
      "source": [
        "###Assessing Data"
      ],
      "metadata": {
        "id": "aKCFH4ZktEvI"
      }
    },
    {
      "cell_type": "markdown",
      "source": [
        "Next, I'll go on and sample the loaded datast at multiple locations."
      ],
      "metadata": {
        "id": "UEM8e95Qrkhj"
      }
    },
    {
      "cell_type": "code",
      "source": [
        "italy_bes.head(10) #look at the first 10 cases/rows"
      ],
      "metadata": {
        "colab": {
          "base_uri": "https://localhost:8080/",
          "height": 566
        },
        "id": "N8DlsXDmrrPf",
        "outputId": "71c304f0-9638-4862-c482-480d162d47b6"
      },
      "execution_count": 142,
      "outputs": [
        {
          "output_type": "execute_result",
          "data": {
            "text/plain": [
              "  DOMINIO    CODICE                INDICATORE  SESSO  \\\n",
              "0  Health  01SAL001  Life expectancy at birth  Males   \n",
              "1  Health  01SAL001  Life expectancy at birth  Males   \n",
              "2  Health  01SAL001  Life expectancy at birth  Males   \n",
              "3  Health  01SAL001  Life expectancy at birth  Males   \n",
              "4  Health  01SAL001  Life expectancy at birth  Males   \n",
              "5  Health  01SAL001  Life expectancy at birth  Males   \n",
              "6  Health  01SAL001  Life expectancy at birth  Males   \n",
              "7  Health  01SAL001  Life expectancy at birth  Males   \n",
              "8  Health  01SAL001  Life expectancy at birth  Males   \n",
              "9  Health  01SAL001  Life expectancy at birth  Males   \n",
              "\n",
              "                            TERRITORIO             UNITA_MISURA  \\\n",
              "0                             Piemonte  Average number of years   \n",
              "1         Valle d'Aosta/Vallée d'Aoste  Average number of years   \n",
              "2                              Liguria  Average number of years   \n",
              "3                            Lombardia  Average number of years   \n",
              "4         Trentino-Alto Adige/Südtirol  Average number of years   \n",
              "5  Provincia Autonoma di Bolzano/Bozen  Average number of years   \n",
              "6         Provincia Autonoma di Trento  Average number of years   \n",
              "7                               Veneto  Average number of years   \n",
              "8                Friuli-Venezia Giulia  Average number of years   \n",
              "9                       Emilia-Romagna  Average number of years   \n",
              "\n",
              "                                       FONTE  2004  2005  2006  ...  2015  \\\n",
              "0  Istat - Life tables of Italian population  77.6  77.9  78.2  ...  79.9   \n",
              "1  Istat - Life tables of Italian population  76.9  76.4  77.7  ...  78.7   \n",
              "2  Istat - Life tables of Italian population  78.0  77.9  78.5  ...  79.9   \n",
              "3  Istat - Life tables of Italian population  77.9  78.1  78.4  ...  80.6   \n",
              "4  Istat - Life tables of Italian population  78.0  78.5  78.8  ...  81.0   \n",
              "5  Istat - Life tables of Italian population  78.0  78.5  78.9  ...  80.8   \n",
              "6  Istat - Life tables of Italian population  78.0  78.5  78.6  ...  81.2   \n",
              "7  Istat - Life tables of Italian population  78.2  78.4  78.8  ...  80.6   \n",
              "8  Istat - Life tables of Italian population  77.8  77.8  78.1  ...  79.9   \n",
              "9  Istat - Life tables of Italian population  78.5  78.8  79.1  ...  80.9   \n",
              "\n",
              "   2016  2017  2018  2019  2020  2021  2022 2023                       NOTA  \n",
              "0  80.6  80.4  80.5  80.7  79.1  80.2  80.3       2022 data are provisional  \n",
              "1  79.4  79.8  79.1  79.9  78.4  80.3  80.3       2022 data are provisional  \n",
              "2  80.6  80.5  80.4  80.8  79.3  80.6  80.4       2022 data are provisional  \n",
              "3  81.1  81.2  81.3  81.5  79.0  80.9  81.1       2022 data are provisional  \n",
              "4  81.2  81.5  82.0  81.9  80.5  81.4  81.5       2022 data are provisional  \n",
              "5  81.2  81.4  81.8  81.8  80.7  81.3  81.1       2022 data are provisional  \n",
              "6  81.4  81.7  82.2  82.1  80.5  81.5  81.9       2022 data are provisional  \n",
              "7  81.0  81.2  81.4  81.7  80.7  81.1  81.2       2022 data are provisional  \n",
              "8  80.4  80.6  80.8  81.3  80.3  79.9  80.3       2022 data are provisional  \n",
              "9  81.2  81.2  81.5  81.7  80.3  80.9  81.2       2022 data are provisional  \n",
              "\n",
              "[10 rows x 28 columns]"
            ],
            "text/html": [
              "\n",
              "  <div id=\"df-a145a1da-eb1b-46a8-a105-7517f2f12730\" class=\"colab-df-container\">\n",
              "    <div>\n",
              "<style scoped>\n",
              "    .dataframe tbody tr th:only-of-type {\n",
              "        vertical-align: middle;\n",
              "    }\n",
              "\n",
              "    .dataframe tbody tr th {\n",
              "        vertical-align: top;\n",
              "    }\n",
              "\n",
              "    .dataframe thead th {\n",
              "        text-align: right;\n",
              "    }\n",
              "</style>\n",
              "<table border=\"1\" class=\"dataframe\">\n",
              "  <thead>\n",
              "    <tr style=\"text-align: right;\">\n",
              "      <th></th>\n",
              "      <th>DOMINIO</th>\n",
              "      <th>CODICE</th>\n",
              "      <th>INDICATORE</th>\n",
              "      <th>SESSO</th>\n",
              "      <th>TERRITORIO</th>\n",
              "      <th>UNITA_MISURA</th>\n",
              "      <th>FONTE</th>\n",
              "      <th>2004</th>\n",
              "      <th>2005</th>\n",
              "      <th>2006</th>\n",
              "      <th>...</th>\n",
              "      <th>2015</th>\n",
              "      <th>2016</th>\n",
              "      <th>2017</th>\n",
              "      <th>2018</th>\n",
              "      <th>2019</th>\n",
              "      <th>2020</th>\n",
              "      <th>2021</th>\n",
              "      <th>2022</th>\n",
              "      <th>2023</th>\n",
              "      <th>NOTA</th>\n",
              "    </tr>\n",
              "  </thead>\n",
              "  <tbody>\n",
              "    <tr>\n",
              "      <th>0</th>\n",
              "      <td>Health</td>\n",
              "      <td>01SAL001</td>\n",
              "      <td>Life expectancy at birth</td>\n",
              "      <td>Males</td>\n",
              "      <td>Piemonte</td>\n",
              "      <td>Average number of years</td>\n",
              "      <td>Istat - Life tables of Italian population</td>\n",
              "      <td>77.6</td>\n",
              "      <td>77.9</td>\n",
              "      <td>78.2</td>\n",
              "      <td>...</td>\n",
              "      <td>79.9</td>\n",
              "      <td>80.6</td>\n",
              "      <td>80.4</td>\n",
              "      <td>80.5</td>\n",
              "      <td>80.7</td>\n",
              "      <td>79.1</td>\n",
              "      <td>80.2</td>\n",
              "      <td>80.3</td>\n",
              "      <td></td>\n",
              "      <td>2022 data are provisional</td>\n",
              "    </tr>\n",
              "    <tr>\n",
              "      <th>1</th>\n",
              "      <td>Health</td>\n",
              "      <td>01SAL001</td>\n",
              "      <td>Life expectancy at birth</td>\n",
              "      <td>Males</td>\n",
              "      <td>Valle d'Aosta/Vallée d'Aoste</td>\n",
              "      <td>Average number of years</td>\n",
              "      <td>Istat - Life tables of Italian population</td>\n",
              "      <td>76.9</td>\n",
              "      <td>76.4</td>\n",
              "      <td>77.7</td>\n",
              "      <td>...</td>\n",
              "      <td>78.7</td>\n",
              "      <td>79.4</td>\n",
              "      <td>79.8</td>\n",
              "      <td>79.1</td>\n",
              "      <td>79.9</td>\n",
              "      <td>78.4</td>\n",
              "      <td>80.3</td>\n",
              "      <td>80.3</td>\n",
              "      <td></td>\n",
              "      <td>2022 data are provisional</td>\n",
              "    </tr>\n",
              "    <tr>\n",
              "      <th>2</th>\n",
              "      <td>Health</td>\n",
              "      <td>01SAL001</td>\n",
              "      <td>Life expectancy at birth</td>\n",
              "      <td>Males</td>\n",
              "      <td>Liguria</td>\n",
              "      <td>Average number of years</td>\n",
              "      <td>Istat - Life tables of Italian population</td>\n",
              "      <td>78.0</td>\n",
              "      <td>77.9</td>\n",
              "      <td>78.5</td>\n",
              "      <td>...</td>\n",
              "      <td>79.9</td>\n",
              "      <td>80.6</td>\n",
              "      <td>80.5</td>\n",
              "      <td>80.4</td>\n",
              "      <td>80.8</td>\n",
              "      <td>79.3</td>\n",
              "      <td>80.6</td>\n",
              "      <td>80.4</td>\n",
              "      <td></td>\n",
              "      <td>2022 data are provisional</td>\n",
              "    </tr>\n",
              "    <tr>\n",
              "      <th>3</th>\n",
              "      <td>Health</td>\n",
              "      <td>01SAL001</td>\n",
              "      <td>Life expectancy at birth</td>\n",
              "      <td>Males</td>\n",
              "      <td>Lombardia</td>\n",
              "      <td>Average number of years</td>\n",
              "      <td>Istat - Life tables of Italian population</td>\n",
              "      <td>77.9</td>\n",
              "      <td>78.1</td>\n",
              "      <td>78.4</td>\n",
              "      <td>...</td>\n",
              "      <td>80.6</td>\n",
              "      <td>81.1</td>\n",
              "      <td>81.2</td>\n",
              "      <td>81.3</td>\n",
              "      <td>81.5</td>\n",
              "      <td>79.0</td>\n",
              "      <td>80.9</td>\n",
              "      <td>81.1</td>\n",
              "      <td></td>\n",
              "      <td>2022 data are provisional</td>\n",
              "    </tr>\n",
              "    <tr>\n",
              "      <th>4</th>\n",
              "      <td>Health</td>\n",
              "      <td>01SAL001</td>\n",
              "      <td>Life expectancy at birth</td>\n",
              "      <td>Males</td>\n",
              "      <td>Trentino-Alto Adige/Südtirol</td>\n",
              "      <td>Average number of years</td>\n",
              "      <td>Istat - Life tables of Italian population</td>\n",
              "      <td>78.0</td>\n",
              "      <td>78.5</td>\n",
              "      <td>78.8</td>\n",
              "      <td>...</td>\n",
              "      <td>81.0</td>\n",
              "      <td>81.2</td>\n",
              "      <td>81.5</td>\n",
              "      <td>82.0</td>\n",
              "      <td>81.9</td>\n",
              "      <td>80.5</td>\n",
              "      <td>81.4</td>\n",
              "      <td>81.5</td>\n",
              "      <td></td>\n",
              "      <td>2022 data are provisional</td>\n",
              "    </tr>\n",
              "    <tr>\n",
              "      <th>5</th>\n",
              "      <td>Health</td>\n",
              "      <td>01SAL001</td>\n",
              "      <td>Life expectancy at birth</td>\n",
              "      <td>Males</td>\n",
              "      <td>Provincia Autonoma di Bolzano/Bozen</td>\n",
              "      <td>Average number of years</td>\n",
              "      <td>Istat - Life tables of Italian population</td>\n",
              "      <td>78.0</td>\n",
              "      <td>78.5</td>\n",
              "      <td>78.9</td>\n",
              "      <td>...</td>\n",
              "      <td>80.8</td>\n",
              "      <td>81.2</td>\n",
              "      <td>81.4</td>\n",
              "      <td>81.8</td>\n",
              "      <td>81.8</td>\n",
              "      <td>80.7</td>\n",
              "      <td>81.3</td>\n",
              "      <td>81.1</td>\n",
              "      <td></td>\n",
              "      <td>2022 data are provisional</td>\n",
              "    </tr>\n",
              "    <tr>\n",
              "      <th>6</th>\n",
              "      <td>Health</td>\n",
              "      <td>01SAL001</td>\n",
              "      <td>Life expectancy at birth</td>\n",
              "      <td>Males</td>\n",
              "      <td>Provincia Autonoma di Trento</td>\n",
              "      <td>Average number of years</td>\n",
              "      <td>Istat - Life tables of Italian population</td>\n",
              "      <td>78.0</td>\n",
              "      <td>78.5</td>\n",
              "      <td>78.6</td>\n",
              "      <td>...</td>\n",
              "      <td>81.2</td>\n",
              "      <td>81.4</td>\n",
              "      <td>81.7</td>\n",
              "      <td>82.2</td>\n",
              "      <td>82.1</td>\n",
              "      <td>80.5</td>\n",
              "      <td>81.5</td>\n",
              "      <td>81.9</td>\n",
              "      <td></td>\n",
              "      <td>2022 data are provisional</td>\n",
              "    </tr>\n",
              "    <tr>\n",
              "      <th>7</th>\n",
              "      <td>Health</td>\n",
              "      <td>01SAL001</td>\n",
              "      <td>Life expectancy at birth</td>\n",
              "      <td>Males</td>\n",
              "      <td>Veneto</td>\n",
              "      <td>Average number of years</td>\n",
              "      <td>Istat - Life tables of Italian population</td>\n",
              "      <td>78.2</td>\n",
              "      <td>78.4</td>\n",
              "      <td>78.8</td>\n",
              "      <td>...</td>\n",
              "      <td>80.6</td>\n",
              "      <td>81.0</td>\n",
              "      <td>81.2</td>\n",
              "      <td>81.4</td>\n",
              "      <td>81.7</td>\n",
              "      <td>80.7</td>\n",
              "      <td>81.1</td>\n",
              "      <td>81.2</td>\n",
              "      <td></td>\n",
              "      <td>2022 data are provisional</td>\n",
              "    </tr>\n",
              "    <tr>\n",
              "      <th>8</th>\n",
              "      <td>Health</td>\n",
              "      <td>01SAL001</td>\n",
              "      <td>Life expectancy at birth</td>\n",
              "      <td>Males</td>\n",
              "      <td>Friuli-Venezia Giulia</td>\n",
              "      <td>Average number of years</td>\n",
              "      <td>Istat - Life tables of Italian population</td>\n",
              "      <td>77.8</td>\n",
              "      <td>77.8</td>\n",
              "      <td>78.1</td>\n",
              "      <td>...</td>\n",
              "      <td>79.9</td>\n",
              "      <td>80.4</td>\n",
              "      <td>80.6</td>\n",
              "      <td>80.8</td>\n",
              "      <td>81.3</td>\n",
              "      <td>80.3</td>\n",
              "      <td>79.9</td>\n",
              "      <td>80.3</td>\n",
              "      <td></td>\n",
              "      <td>2022 data are provisional</td>\n",
              "    </tr>\n",
              "    <tr>\n",
              "      <th>9</th>\n",
              "      <td>Health</td>\n",
              "      <td>01SAL001</td>\n",
              "      <td>Life expectancy at birth</td>\n",
              "      <td>Males</td>\n",
              "      <td>Emilia-Romagna</td>\n",
              "      <td>Average number of years</td>\n",
              "      <td>Istat - Life tables of Italian population</td>\n",
              "      <td>78.5</td>\n",
              "      <td>78.8</td>\n",
              "      <td>79.1</td>\n",
              "      <td>...</td>\n",
              "      <td>80.9</td>\n",
              "      <td>81.2</td>\n",
              "      <td>81.2</td>\n",
              "      <td>81.5</td>\n",
              "      <td>81.7</td>\n",
              "      <td>80.3</td>\n",
              "      <td>80.9</td>\n",
              "      <td>81.2</td>\n",
              "      <td></td>\n",
              "      <td>2022 data are provisional</td>\n",
              "    </tr>\n",
              "  </tbody>\n",
              "</table>\n",
              "<p>10 rows × 28 columns</p>\n",
              "</div>\n",
              "    <div class=\"colab-df-buttons\">\n",
              "\n",
              "  <div class=\"colab-df-container\">\n",
              "    <button class=\"colab-df-convert\" onclick=\"convertToInteractive('df-a145a1da-eb1b-46a8-a105-7517f2f12730')\"\n",
              "            title=\"Convert this dataframe to an interactive table.\"\n",
              "            style=\"display:none;\">\n",
              "\n",
              "  <svg xmlns=\"http://www.w3.org/2000/svg\" height=\"24px\" viewBox=\"0 -960 960 960\">\n",
              "    <path d=\"M120-120v-720h720v720H120Zm60-500h600v-160H180v160Zm220 220h160v-160H400v160Zm0 220h160v-160H400v160ZM180-400h160v-160H180v160Zm440 0h160v-160H620v160ZM180-180h160v-160H180v160Zm440 0h160v-160H620v160Z\"/>\n",
              "  </svg>\n",
              "    </button>\n",
              "\n",
              "  <style>\n",
              "    .colab-df-container {\n",
              "      display:flex;\n",
              "      gap: 12px;\n",
              "    }\n",
              "\n",
              "    .colab-df-convert {\n",
              "      background-color: #E8F0FE;\n",
              "      border: none;\n",
              "      border-radius: 50%;\n",
              "      cursor: pointer;\n",
              "      display: none;\n",
              "      fill: #1967D2;\n",
              "      height: 32px;\n",
              "      padding: 0 0 0 0;\n",
              "      width: 32px;\n",
              "    }\n",
              "\n",
              "    .colab-df-convert:hover {\n",
              "      background-color: #E2EBFA;\n",
              "      box-shadow: 0px 1px 2px rgba(60, 64, 67, 0.3), 0px 1px 3px 1px rgba(60, 64, 67, 0.15);\n",
              "      fill: #174EA6;\n",
              "    }\n",
              "\n",
              "    .colab-df-buttons div {\n",
              "      margin-bottom: 4px;\n",
              "    }\n",
              "\n",
              "    [theme=dark] .colab-df-convert {\n",
              "      background-color: #3B4455;\n",
              "      fill: #D2E3FC;\n",
              "    }\n",
              "\n",
              "    [theme=dark] .colab-df-convert:hover {\n",
              "      background-color: #434B5C;\n",
              "      box-shadow: 0px 1px 3px 1px rgba(0, 0, 0, 0.15);\n",
              "      filter: drop-shadow(0px 1px 2px rgba(0, 0, 0, 0.3));\n",
              "      fill: #FFFFFF;\n",
              "    }\n",
              "  </style>\n",
              "\n",
              "    <script>\n",
              "      const buttonEl =\n",
              "        document.querySelector('#df-a145a1da-eb1b-46a8-a105-7517f2f12730 button.colab-df-convert');\n",
              "      buttonEl.style.display =\n",
              "        google.colab.kernel.accessAllowed ? 'block' : 'none';\n",
              "\n",
              "      async function convertToInteractive(key) {\n",
              "        const element = document.querySelector('#df-a145a1da-eb1b-46a8-a105-7517f2f12730');\n",
              "        const dataTable =\n",
              "          await google.colab.kernel.invokeFunction('convertToInteractive',\n",
              "                                                    [key], {});\n",
              "        if (!dataTable) return;\n",
              "\n",
              "        const docLinkHtml = 'Like what you see? Visit the ' +\n",
              "          '<a target=\"_blank\" href=https://colab.research.google.com/notebooks/data_table.ipynb>data table notebook</a>'\n",
              "          + ' to learn more about interactive tables.';\n",
              "        element.innerHTML = '';\n",
              "        dataTable['output_type'] = 'display_data';\n",
              "        await google.colab.output.renderOutput(dataTable, element);\n",
              "        const docLink = document.createElement('div');\n",
              "        docLink.innerHTML = docLinkHtml;\n",
              "        element.appendChild(docLink);\n",
              "      }\n",
              "    </script>\n",
              "  </div>\n",
              "\n",
              "\n",
              "<div id=\"df-407508d9-5542-49ac-9f04-2ef2c530e8a1\">\n",
              "  <button class=\"colab-df-quickchart\" onclick=\"quickchart('df-407508d9-5542-49ac-9f04-2ef2c530e8a1')\"\n",
              "            title=\"Suggest charts.\"\n",
              "            style=\"display:none;\">\n",
              "\n",
              "<svg xmlns=\"http://www.w3.org/2000/svg\" height=\"24px\"viewBox=\"0 0 24 24\"\n",
              "     width=\"24px\">\n",
              "    <g>\n",
              "        <path d=\"M19 3H5c-1.1 0-2 .9-2 2v14c0 1.1.9 2 2 2h14c1.1 0 2-.9 2-2V5c0-1.1-.9-2-2-2zM9 17H7v-7h2v7zm4 0h-2V7h2v10zm4 0h-2v-4h2v4z\"/>\n",
              "    </g>\n",
              "</svg>\n",
              "  </button>\n",
              "\n",
              "<style>\n",
              "  .colab-df-quickchart {\n",
              "      --bg-color: #E8F0FE;\n",
              "      --fill-color: #1967D2;\n",
              "      --hover-bg-color: #E2EBFA;\n",
              "      --hover-fill-color: #174EA6;\n",
              "      --disabled-fill-color: #AAA;\n",
              "      --disabled-bg-color: #DDD;\n",
              "  }\n",
              "\n",
              "  [theme=dark] .colab-df-quickchart {\n",
              "      --bg-color: #3B4455;\n",
              "      --fill-color: #D2E3FC;\n",
              "      --hover-bg-color: #434B5C;\n",
              "      --hover-fill-color: #FFFFFF;\n",
              "      --disabled-bg-color: #3B4455;\n",
              "      --disabled-fill-color: #666;\n",
              "  }\n",
              "\n",
              "  .colab-df-quickchart {\n",
              "    background-color: var(--bg-color);\n",
              "    border: none;\n",
              "    border-radius: 50%;\n",
              "    cursor: pointer;\n",
              "    display: none;\n",
              "    fill: var(--fill-color);\n",
              "    height: 32px;\n",
              "    padding: 0;\n",
              "    width: 32px;\n",
              "  }\n",
              "\n",
              "  .colab-df-quickchart:hover {\n",
              "    background-color: var(--hover-bg-color);\n",
              "    box-shadow: 0 1px 2px rgba(60, 64, 67, 0.3), 0 1px 3px 1px rgba(60, 64, 67, 0.15);\n",
              "    fill: var(--button-hover-fill-color);\n",
              "  }\n",
              "\n",
              "  .colab-df-quickchart-complete:disabled,\n",
              "  .colab-df-quickchart-complete:disabled:hover {\n",
              "    background-color: var(--disabled-bg-color);\n",
              "    fill: var(--disabled-fill-color);\n",
              "    box-shadow: none;\n",
              "  }\n",
              "\n",
              "  .colab-df-spinner {\n",
              "    border: 2px solid var(--fill-color);\n",
              "    border-color: transparent;\n",
              "    border-bottom-color: var(--fill-color);\n",
              "    animation:\n",
              "      spin 1s steps(1) infinite;\n",
              "  }\n",
              "\n",
              "  @keyframes spin {\n",
              "    0% {\n",
              "      border-color: transparent;\n",
              "      border-bottom-color: var(--fill-color);\n",
              "      border-left-color: var(--fill-color);\n",
              "    }\n",
              "    20% {\n",
              "      border-color: transparent;\n",
              "      border-left-color: var(--fill-color);\n",
              "      border-top-color: var(--fill-color);\n",
              "    }\n",
              "    30% {\n",
              "      border-color: transparent;\n",
              "      border-left-color: var(--fill-color);\n",
              "      border-top-color: var(--fill-color);\n",
              "      border-right-color: var(--fill-color);\n",
              "    }\n",
              "    40% {\n",
              "      border-color: transparent;\n",
              "      border-right-color: var(--fill-color);\n",
              "      border-top-color: var(--fill-color);\n",
              "    }\n",
              "    60% {\n",
              "      border-color: transparent;\n",
              "      border-right-color: var(--fill-color);\n",
              "    }\n",
              "    80% {\n",
              "      border-color: transparent;\n",
              "      border-right-color: var(--fill-color);\n",
              "      border-bottom-color: var(--fill-color);\n",
              "    }\n",
              "    90% {\n",
              "      border-color: transparent;\n",
              "      border-bottom-color: var(--fill-color);\n",
              "    }\n",
              "  }\n",
              "</style>\n",
              "\n",
              "  <script>\n",
              "    async function quickchart(key) {\n",
              "      const quickchartButtonEl =\n",
              "        document.querySelector('#' + key + ' button');\n",
              "      quickchartButtonEl.disabled = true;  // To prevent multiple clicks.\n",
              "      quickchartButtonEl.classList.add('colab-df-spinner');\n",
              "      try {\n",
              "        const charts = await google.colab.kernel.invokeFunction(\n",
              "            'suggestCharts', [key], {});\n",
              "      } catch (error) {\n",
              "        console.error('Error during call to suggestCharts:', error);\n",
              "      }\n",
              "      quickchartButtonEl.classList.remove('colab-df-spinner');\n",
              "      quickchartButtonEl.classList.add('colab-df-quickchart-complete');\n",
              "    }\n",
              "    (() => {\n",
              "      let quickchartButtonEl =\n",
              "        document.querySelector('#df-407508d9-5542-49ac-9f04-2ef2c530e8a1 button');\n",
              "      quickchartButtonEl.style.display =\n",
              "        google.colab.kernel.accessAllowed ? 'block' : 'none';\n",
              "    })();\n",
              "  </script>\n",
              "</div>\n",
              "    </div>\n",
              "  </div>\n"
            ]
          },
          "metadata": {},
          "execution_count": 142
        }
      ]
    },
    {
      "cell_type": "code",
      "source": [
        "italy_bes.sample(10, random_state = 888) #randomly sample 10 cases"
      ],
      "metadata": {
        "colab": {
          "base_uri": "https://localhost:8080/",
          "height": 670
        },
        "id": "d4BpE0V8rvYY",
        "outputId": "8ffad4d5-9e3b-40d4-ec60-322695e256f4"
      },
      "execution_count": 143,
      "outputs": [
        {
          "output_type": "execute_result",
          "data": {
            "text/plain": [
              "                        DOMINIO        CODICE  \\\n",
              "1429     Education and training  02IST002-N22   \n",
              "5075  Politics and Institutions      06POL005   \n",
              "4827  Politics and Institutions      06POL002   \n",
              "5731                     Safety      07SIC021   \n",
              "87                       Health      01SAL001   \n",
              "6626                Environment      10AMB020   \n",
              "3097      Work and life balance      03LAV008   \n",
              "6866                Environment      10AMB014   \n",
              "1518     Education and training  02IST003-N22   \n",
              "8436        Quality of services      12SER027   \n",
              "\n",
              "                                             INDICATORE    SESSO TERRITORIO  \\\n",
              "1429  People with at least upper secondary education...    Total     Puglia   \n",
              "5075                   Trust in police and fire brigade  Females     Centre   \n",
              "4827                            Trust in the parliament    Total     Puglia   \n",
              "5731                     Social decay (or incivilities)  Females     Puglia   \n",
              "87                             Life expectancy at birth    Total      South   \n",
              "6626                                Air quality – PM2.5    Total     Marche   \n",
              "3097  Share of employed persons not in regular occup...    Total   Calabria   \n",
              "6866                            Protected natural areas    Total     Umbria   \n",
              "1518  People having completed tertiary education (30...    Total   Campania   \n",
              "8436  General practitioners with a number of patient...    Total    Islands   \n",
              "\n",
              "                 UNITA_MISURA  \\\n",
              "1429        Percentage values   \n",
              "5075               Mean score   \n",
              "4827               Mean score   \n",
              "5731        Percentage values   \n",
              "87    Average number of years   \n",
              "6626        Percentage values   \n",
              "3097        Percentage values   \n",
              "6866        Percentage values   \n",
              "1518        Percentage values   \n",
              "8436        Percentage values   \n",
              "\n",
              "                                                  FONTE  2004  2005  2006  \\\n",
              "1429                        Istat - Labour force survey                     \n",
              "5075            Istat - Survey on Aspects of daily life                     \n",
              "4827            Istat - Survey on Aspects of daily life                     \n",
              "5731            Istat - Survey on Aspects of daily life                     \n",
              "87            Istat - Life tables of Italian population  80.2  80.2  80.6   \n",
              "6626              Istat - Processing of data from Ispra                     \n",
              "3097                          Istat - National Accounts  19.5  20.5  21.3   \n",
              "6866  Istat - Processing of data from Ministry of th...                     \n",
              "1518                        Istat - Labour force survey                     \n",
              "8436  Istat - Processing of data from Ministry of He...  12.8  12.7  12.8   \n",
              "\n",
              "      ...  2015  2016  2017  2018  2019  2020  2021  2022 2023  \\\n",
              "1429  ...                    50.3  51.4  51.4  51.7  52.5        \n",
              "5075  ...   7.0   7.3   7.4   7.3   7.5   7.5   7.5   7.5        \n",
              "4827  ...   3.7   3.8   3.4   3.9   4.9   4.7   4.7   4.8        \n",
              "5731  ...              16.2   9.3   8.9   7.4   5.4   6.3        \n",
              "87    ...  81.5  82.1  81.8  82.3  82.5  81.8  81.5  81.7        \n",
              "6626  ...  76.9  61.5  83.3  83.3  76.5  66.7  53.3              \n",
              "3097  ...  23.1  22.2  21.6  22.0  21.5  20.9                    \n",
              "6866  ...        17.5  17.5                    17.5              \n",
              "1518  ...                    20.4  21.1  21.2  21.2  23.4        \n",
              "8436  ...  16.2  16.5  16.2  17.9  18.7  20.1                    \n",
              "\n",
              "                                                   NOTA  \n",
              "1429                                                     \n",
              "5075                                                     \n",
              "4827                                                     \n",
              "5731  Starting from 2020 for the whole time series t...  \n",
              "87                            2022 data are provisional  \n",
              "6626                                                     \n",
              "3097                                                     \n",
              "6866                                                     \n",
              "1518                                                     \n",
              "8436                                                     \n",
              "\n",
              "[10 rows x 28 columns]"
            ],
            "text/html": [
              "\n",
              "  <div id=\"df-ffce2ebb-2649-4b8b-85bd-339cd4d4d262\" class=\"colab-df-container\">\n",
              "    <div>\n",
              "<style scoped>\n",
              "    .dataframe tbody tr th:only-of-type {\n",
              "        vertical-align: middle;\n",
              "    }\n",
              "\n",
              "    .dataframe tbody tr th {\n",
              "        vertical-align: top;\n",
              "    }\n",
              "\n",
              "    .dataframe thead th {\n",
              "        text-align: right;\n",
              "    }\n",
              "</style>\n",
              "<table border=\"1\" class=\"dataframe\">\n",
              "  <thead>\n",
              "    <tr style=\"text-align: right;\">\n",
              "      <th></th>\n",
              "      <th>DOMINIO</th>\n",
              "      <th>CODICE</th>\n",
              "      <th>INDICATORE</th>\n",
              "      <th>SESSO</th>\n",
              "      <th>TERRITORIO</th>\n",
              "      <th>UNITA_MISURA</th>\n",
              "      <th>FONTE</th>\n",
              "      <th>2004</th>\n",
              "      <th>2005</th>\n",
              "      <th>2006</th>\n",
              "      <th>...</th>\n",
              "      <th>2015</th>\n",
              "      <th>2016</th>\n",
              "      <th>2017</th>\n",
              "      <th>2018</th>\n",
              "      <th>2019</th>\n",
              "      <th>2020</th>\n",
              "      <th>2021</th>\n",
              "      <th>2022</th>\n",
              "      <th>2023</th>\n",
              "      <th>NOTA</th>\n",
              "    </tr>\n",
              "  </thead>\n",
              "  <tbody>\n",
              "    <tr>\n",
              "      <th>1429</th>\n",
              "      <td>Education and training</td>\n",
              "      <td>02IST002-N22</td>\n",
              "      <td>People with at least upper secondary education...</td>\n",
              "      <td>Total</td>\n",
              "      <td>Puglia</td>\n",
              "      <td>Percentage values</td>\n",
              "      <td>Istat - Labour force survey</td>\n",
              "      <td></td>\n",
              "      <td></td>\n",
              "      <td></td>\n",
              "      <td>...</td>\n",
              "      <td></td>\n",
              "      <td></td>\n",
              "      <td></td>\n",
              "      <td>50.3</td>\n",
              "      <td>51.4</td>\n",
              "      <td>51.4</td>\n",
              "      <td>51.7</td>\n",
              "      <td>52.5</td>\n",
              "      <td></td>\n",
              "      <td></td>\n",
              "    </tr>\n",
              "    <tr>\n",
              "      <th>5075</th>\n",
              "      <td>Politics and Institutions</td>\n",
              "      <td>06POL005</td>\n",
              "      <td>Trust in police and fire brigade</td>\n",
              "      <td>Females</td>\n",
              "      <td>Centre</td>\n",
              "      <td>Mean score</td>\n",
              "      <td>Istat - Survey on Aspects of daily life</td>\n",
              "      <td></td>\n",
              "      <td></td>\n",
              "      <td></td>\n",
              "      <td>...</td>\n",
              "      <td>7.0</td>\n",
              "      <td>7.3</td>\n",
              "      <td>7.4</td>\n",
              "      <td>7.3</td>\n",
              "      <td>7.5</td>\n",
              "      <td>7.5</td>\n",
              "      <td>7.5</td>\n",
              "      <td>7.5</td>\n",
              "      <td></td>\n",
              "      <td></td>\n",
              "    </tr>\n",
              "    <tr>\n",
              "      <th>4827</th>\n",
              "      <td>Politics and Institutions</td>\n",
              "      <td>06POL002</td>\n",
              "      <td>Trust in the parliament</td>\n",
              "      <td>Total</td>\n",
              "      <td>Puglia</td>\n",
              "      <td>Mean score</td>\n",
              "      <td>Istat - Survey on Aspects of daily life</td>\n",
              "      <td></td>\n",
              "      <td></td>\n",
              "      <td></td>\n",
              "      <td>...</td>\n",
              "      <td>3.7</td>\n",
              "      <td>3.8</td>\n",
              "      <td>3.4</td>\n",
              "      <td>3.9</td>\n",
              "      <td>4.9</td>\n",
              "      <td>4.7</td>\n",
              "      <td>4.7</td>\n",
              "      <td>4.8</td>\n",
              "      <td></td>\n",
              "      <td></td>\n",
              "    </tr>\n",
              "    <tr>\n",
              "      <th>5731</th>\n",
              "      <td>Safety</td>\n",
              "      <td>07SIC021</td>\n",
              "      <td>Social decay (or incivilities)</td>\n",
              "      <td>Females</td>\n",
              "      <td>Puglia</td>\n",
              "      <td>Percentage values</td>\n",
              "      <td>Istat - Survey on Aspects of daily life</td>\n",
              "      <td></td>\n",
              "      <td></td>\n",
              "      <td></td>\n",
              "      <td>...</td>\n",
              "      <td></td>\n",
              "      <td></td>\n",
              "      <td>16.2</td>\n",
              "      <td>9.3</td>\n",
              "      <td>8.9</td>\n",
              "      <td>7.4</td>\n",
              "      <td>5.4</td>\n",
              "      <td>6.3</td>\n",
              "      <td></td>\n",
              "      <td>Starting from 2020 for the whole time series t...</td>\n",
              "    </tr>\n",
              "    <tr>\n",
              "      <th>87</th>\n",
              "      <td>Health</td>\n",
              "      <td>01SAL001</td>\n",
              "      <td>Life expectancy at birth</td>\n",
              "      <td>Total</td>\n",
              "      <td>South</td>\n",
              "      <td>Average number of years</td>\n",
              "      <td>Istat - Life tables of Italian population</td>\n",
              "      <td>80.2</td>\n",
              "      <td>80.2</td>\n",
              "      <td>80.6</td>\n",
              "      <td>...</td>\n",
              "      <td>81.5</td>\n",
              "      <td>82.1</td>\n",
              "      <td>81.8</td>\n",
              "      <td>82.3</td>\n",
              "      <td>82.5</td>\n",
              "      <td>81.8</td>\n",
              "      <td>81.5</td>\n",
              "      <td>81.7</td>\n",
              "      <td></td>\n",
              "      <td>2022 data are provisional</td>\n",
              "    </tr>\n",
              "    <tr>\n",
              "      <th>6626</th>\n",
              "      <td>Environment</td>\n",
              "      <td>10AMB020</td>\n",
              "      <td>Air quality – PM2.5</td>\n",
              "      <td>Total</td>\n",
              "      <td>Marche</td>\n",
              "      <td>Percentage values</td>\n",
              "      <td>Istat - Processing of data from Ispra</td>\n",
              "      <td></td>\n",
              "      <td></td>\n",
              "      <td></td>\n",
              "      <td>...</td>\n",
              "      <td>76.9</td>\n",
              "      <td>61.5</td>\n",
              "      <td>83.3</td>\n",
              "      <td>83.3</td>\n",
              "      <td>76.5</td>\n",
              "      <td>66.7</td>\n",
              "      <td>53.3</td>\n",
              "      <td></td>\n",
              "      <td></td>\n",
              "      <td></td>\n",
              "    </tr>\n",
              "    <tr>\n",
              "      <th>3097</th>\n",
              "      <td>Work and life balance</td>\n",
              "      <td>03LAV008</td>\n",
              "      <td>Share of employed persons not in regular occup...</td>\n",
              "      <td>Total</td>\n",
              "      <td>Calabria</td>\n",
              "      <td>Percentage values</td>\n",
              "      <td>Istat - National Accounts</td>\n",
              "      <td>19.5</td>\n",
              "      <td>20.5</td>\n",
              "      <td>21.3</td>\n",
              "      <td>...</td>\n",
              "      <td>23.1</td>\n",
              "      <td>22.2</td>\n",
              "      <td>21.6</td>\n",
              "      <td>22.0</td>\n",
              "      <td>21.5</td>\n",
              "      <td>20.9</td>\n",
              "      <td></td>\n",
              "      <td></td>\n",
              "      <td></td>\n",
              "      <td></td>\n",
              "    </tr>\n",
              "    <tr>\n",
              "      <th>6866</th>\n",
              "      <td>Environment</td>\n",
              "      <td>10AMB014</td>\n",
              "      <td>Protected natural areas</td>\n",
              "      <td>Total</td>\n",
              "      <td>Umbria</td>\n",
              "      <td>Percentage values</td>\n",
              "      <td>Istat - Processing of data from Ministry of th...</td>\n",
              "      <td></td>\n",
              "      <td></td>\n",
              "      <td></td>\n",
              "      <td>...</td>\n",
              "      <td></td>\n",
              "      <td>17.5</td>\n",
              "      <td>17.5</td>\n",
              "      <td></td>\n",
              "      <td></td>\n",
              "      <td></td>\n",
              "      <td>17.5</td>\n",
              "      <td></td>\n",
              "      <td></td>\n",
              "      <td></td>\n",
              "    </tr>\n",
              "    <tr>\n",
              "      <th>1518</th>\n",
              "      <td>Education and training</td>\n",
              "      <td>02IST003-N22</td>\n",
              "      <td>People having completed tertiary education (30...</td>\n",
              "      <td>Total</td>\n",
              "      <td>Campania</td>\n",
              "      <td>Percentage values</td>\n",
              "      <td>Istat - Labour force survey</td>\n",
              "      <td></td>\n",
              "      <td></td>\n",
              "      <td></td>\n",
              "      <td>...</td>\n",
              "      <td></td>\n",
              "      <td></td>\n",
              "      <td></td>\n",
              "      <td>20.4</td>\n",
              "      <td>21.1</td>\n",
              "      <td>21.2</td>\n",
              "      <td>21.2</td>\n",
              "      <td>23.4</td>\n",
              "      <td></td>\n",
              "      <td></td>\n",
              "    </tr>\n",
              "    <tr>\n",
              "      <th>8436</th>\n",
              "      <td>Quality of services</td>\n",
              "      <td>12SER027</td>\n",
              "      <td>General practitioners with a number of patient...</td>\n",
              "      <td>Total</td>\n",
              "      <td>Islands</td>\n",
              "      <td>Percentage values</td>\n",
              "      <td>Istat - Processing of data from Ministry of He...</td>\n",
              "      <td>12.8</td>\n",
              "      <td>12.7</td>\n",
              "      <td>12.8</td>\n",
              "      <td>...</td>\n",
              "      <td>16.2</td>\n",
              "      <td>16.5</td>\n",
              "      <td>16.2</td>\n",
              "      <td>17.9</td>\n",
              "      <td>18.7</td>\n",
              "      <td>20.1</td>\n",
              "      <td></td>\n",
              "      <td></td>\n",
              "      <td></td>\n",
              "      <td></td>\n",
              "    </tr>\n",
              "  </tbody>\n",
              "</table>\n",
              "<p>10 rows × 28 columns</p>\n",
              "</div>\n",
              "    <div class=\"colab-df-buttons\">\n",
              "\n",
              "  <div class=\"colab-df-container\">\n",
              "    <button class=\"colab-df-convert\" onclick=\"convertToInteractive('df-ffce2ebb-2649-4b8b-85bd-339cd4d4d262')\"\n",
              "            title=\"Convert this dataframe to an interactive table.\"\n",
              "            style=\"display:none;\">\n",
              "\n",
              "  <svg xmlns=\"http://www.w3.org/2000/svg\" height=\"24px\" viewBox=\"0 -960 960 960\">\n",
              "    <path d=\"M120-120v-720h720v720H120Zm60-500h600v-160H180v160Zm220 220h160v-160H400v160Zm0 220h160v-160H400v160ZM180-400h160v-160H180v160Zm440 0h160v-160H620v160ZM180-180h160v-160H180v160Zm440 0h160v-160H620v160Z\"/>\n",
              "  </svg>\n",
              "    </button>\n",
              "\n",
              "  <style>\n",
              "    .colab-df-container {\n",
              "      display:flex;\n",
              "      gap: 12px;\n",
              "    }\n",
              "\n",
              "    .colab-df-convert {\n",
              "      background-color: #E8F0FE;\n",
              "      border: none;\n",
              "      border-radius: 50%;\n",
              "      cursor: pointer;\n",
              "      display: none;\n",
              "      fill: #1967D2;\n",
              "      height: 32px;\n",
              "      padding: 0 0 0 0;\n",
              "      width: 32px;\n",
              "    }\n",
              "\n",
              "    .colab-df-convert:hover {\n",
              "      background-color: #E2EBFA;\n",
              "      box-shadow: 0px 1px 2px rgba(60, 64, 67, 0.3), 0px 1px 3px 1px rgba(60, 64, 67, 0.15);\n",
              "      fill: #174EA6;\n",
              "    }\n",
              "\n",
              "    .colab-df-buttons div {\n",
              "      margin-bottom: 4px;\n",
              "    }\n",
              "\n",
              "    [theme=dark] .colab-df-convert {\n",
              "      background-color: #3B4455;\n",
              "      fill: #D2E3FC;\n",
              "    }\n",
              "\n",
              "    [theme=dark] .colab-df-convert:hover {\n",
              "      background-color: #434B5C;\n",
              "      box-shadow: 0px 1px 3px 1px rgba(0, 0, 0, 0.15);\n",
              "      filter: drop-shadow(0px 1px 2px rgba(0, 0, 0, 0.3));\n",
              "      fill: #FFFFFF;\n",
              "    }\n",
              "  </style>\n",
              "\n",
              "    <script>\n",
              "      const buttonEl =\n",
              "        document.querySelector('#df-ffce2ebb-2649-4b8b-85bd-339cd4d4d262 button.colab-df-convert');\n",
              "      buttonEl.style.display =\n",
              "        google.colab.kernel.accessAllowed ? 'block' : 'none';\n",
              "\n",
              "      async function convertToInteractive(key) {\n",
              "        const element = document.querySelector('#df-ffce2ebb-2649-4b8b-85bd-339cd4d4d262');\n",
              "        const dataTable =\n",
              "          await google.colab.kernel.invokeFunction('convertToInteractive',\n",
              "                                                    [key], {});\n",
              "        if (!dataTable) return;\n",
              "\n",
              "        const docLinkHtml = 'Like what you see? Visit the ' +\n",
              "          '<a target=\"_blank\" href=https://colab.research.google.com/notebooks/data_table.ipynb>data table notebook</a>'\n",
              "          + ' to learn more about interactive tables.';\n",
              "        element.innerHTML = '';\n",
              "        dataTable['output_type'] = 'display_data';\n",
              "        await google.colab.output.renderOutput(dataTable, element);\n",
              "        const docLink = document.createElement('div');\n",
              "        docLink.innerHTML = docLinkHtml;\n",
              "        element.appendChild(docLink);\n",
              "      }\n",
              "    </script>\n",
              "  </div>\n",
              "\n",
              "\n",
              "<div id=\"df-d53a0e56-85fa-4817-ac4f-278879252167\">\n",
              "  <button class=\"colab-df-quickchart\" onclick=\"quickchart('df-d53a0e56-85fa-4817-ac4f-278879252167')\"\n",
              "            title=\"Suggest charts.\"\n",
              "            style=\"display:none;\">\n",
              "\n",
              "<svg xmlns=\"http://www.w3.org/2000/svg\" height=\"24px\"viewBox=\"0 0 24 24\"\n",
              "     width=\"24px\">\n",
              "    <g>\n",
              "        <path d=\"M19 3H5c-1.1 0-2 .9-2 2v14c0 1.1.9 2 2 2h14c1.1 0 2-.9 2-2V5c0-1.1-.9-2-2-2zM9 17H7v-7h2v7zm4 0h-2V7h2v10zm4 0h-2v-4h2v4z\"/>\n",
              "    </g>\n",
              "</svg>\n",
              "  </button>\n",
              "\n",
              "<style>\n",
              "  .colab-df-quickchart {\n",
              "      --bg-color: #E8F0FE;\n",
              "      --fill-color: #1967D2;\n",
              "      --hover-bg-color: #E2EBFA;\n",
              "      --hover-fill-color: #174EA6;\n",
              "      --disabled-fill-color: #AAA;\n",
              "      --disabled-bg-color: #DDD;\n",
              "  }\n",
              "\n",
              "  [theme=dark] .colab-df-quickchart {\n",
              "      --bg-color: #3B4455;\n",
              "      --fill-color: #D2E3FC;\n",
              "      --hover-bg-color: #434B5C;\n",
              "      --hover-fill-color: #FFFFFF;\n",
              "      --disabled-bg-color: #3B4455;\n",
              "      --disabled-fill-color: #666;\n",
              "  }\n",
              "\n",
              "  .colab-df-quickchart {\n",
              "    background-color: var(--bg-color);\n",
              "    border: none;\n",
              "    border-radius: 50%;\n",
              "    cursor: pointer;\n",
              "    display: none;\n",
              "    fill: var(--fill-color);\n",
              "    height: 32px;\n",
              "    padding: 0;\n",
              "    width: 32px;\n",
              "  }\n",
              "\n",
              "  .colab-df-quickchart:hover {\n",
              "    background-color: var(--hover-bg-color);\n",
              "    box-shadow: 0 1px 2px rgba(60, 64, 67, 0.3), 0 1px 3px 1px rgba(60, 64, 67, 0.15);\n",
              "    fill: var(--button-hover-fill-color);\n",
              "  }\n",
              "\n",
              "  .colab-df-quickchart-complete:disabled,\n",
              "  .colab-df-quickchart-complete:disabled:hover {\n",
              "    background-color: var(--disabled-bg-color);\n",
              "    fill: var(--disabled-fill-color);\n",
              "    box-shadow: none;\n",
              "  }\n",
              "\n",
              "  .colab-df-spinner {\n",
              "    border: 2px solid var(--fill-color);\n",
              "    border-color: transparent;\n",
              "    border-bottom-color: var(--fill-color);\n",
              "    animation:\n",
              "      spin 1s steps(1) infinite;\n",
              "  }\n",
              "\n",
              "  @keyframes spin {\n",
              "    0% {\n",
              "      border-color: transparent;\n",
              "      border-bottom-color: var(--fill-color);\n",
              "      border-left-color: var(--fill-color);\n",
              "    }\n",
              "    20% {\n",
              "      border-color: transparent;\n",
              "      border-left-color: var(--fill-color);\n",
              "      border-top-color: var(--fill-color);\n",
              "    }\n",
              "    30% {\n",
              "      border-color: transparent;\n",
              "      border-left-color: var(--fill-color);\n",
              "      border-top-color: var(--fill-color);\n",
              "      border-right-color: var(--fill-color);\n",
              "    }\n",
              "    40% {\n",
              "      border-color: transparent;\n",
              "      border-right-color: var(--fill-color);\n",
              "      border-top-color: var(--fill-color);\n",
              "    }\n",
              "    60% {\n",
              "      border-color: transparent;\n",
              "      border-right-color: var(--fill-color);\n",
              "    }\n",
              "    80% {\n",
              "      border-color: transparent;\n",
              "      border-right-color: var(--fill-color);\n",
              "      border-bottom-color: var(--fill-color);\n",
              "    }\n",
              "    90% {\n",
              "      border-color: transparent;\n",
              "      border-bottom-color: var(--fill-color);\n",
              "    }\n",
              "  }\n",
              "</style>\n",
              "\n",
              "  <script>\n",
              "    async function quickchart(key) {\n",
              "      const quickchartButtonEl =\n",
              "        document.querySelector('#' + key + ' button');\n",
              "      quickchartButtonEl.disabled = true;  // To prevent multiple clicks.\n",
              "      quickchartButtonEl.classList.add('colab-df-spinner');\n",
              "      try {\n",
              "        const charts = await google.colab.kernel.invokeFunction(\n",
              "            'suggestCharts', [key], {});\n",
              "      } catch (error) {\n",
              "        console.error('Error during call to suggestCharts:', error);\n",
              "      }\n",
              "      quickchartButtonEl.classList.remove('colab-df-spinner');\n",
              "      quickchartButtonEl.classList.add('colab-df-quickchart-complete');\n",
              "    }\n",
              "    (() => {\n",
              "      let quickchartButtonEl =\n",
              "        document.querySelector('#df-d53a0e56-85fa-4817-ac4f-278879252167 button');\n",
              "      quickchartButtonEl.style.display =\n",
              "        google.colab.kernel.accessAllowed ? 'block' : 'none';\n",
              "    })();\n",
              "  </script>\n",
              "</div>\n",
              "    </div>\n",
              "  </div>\n"
            ]
          },
          "metadata": {},
          "execution_count": 143
        }
      ]
    },
    {
      "cell_type": "code",
      "source": [
        "italy_bes.tail(8) #sample the last 8 rows"
      ],
      "metadata": {
        "colab": {
          "base_uri": "https://localhost:8080/",
          "height": 468
        },
        "id": "duf8VbxssBtm",
        "outputId": "163b87ca-0917-47d3-b6bb-7fca70072501"
      },
      "execution_count": 144,
      "outputs": [
        {
          "output_type": "execute_result",
          "data": {
            "text/plain": [
              "                  DOMINIO CODICE           INDICATORE  SESSO  \\\n",
              "8492  Quality of services  SDG-4  Nurses and midwives  Total   \n",
              "8493  Quality of services  SDG-4  Nurses and midwives  Total   \n",
              "8494  Quality of services  SDG-4  Nurses and midwives  Total   \n",
              "8495  Quality of services  SDG-4  Nurses and midwives  Total   \n",
              "8496  Quality of services  SDG-4  Nurses and midwives  Total   \n",
              "8497  Quality of services  SDG-4  Nurses and midwives  Total   \n",
              "8498  Quality of services  SDG-4  Nurses and midwives  Total   \n",
              "8499  Quality of services  SDG-4  Nurses and midwives  Total   \n",
              "\n",
              "             TERRITORIO           UNITA_MISURA  \\\n",
              "8492              North  Per 1,000 inhabitants   \n",
              "8493         North-west  Per 1,000 inhabitants   \n",
              "8494         North-east  Per 1,000 inhabitants   \n",
              "8495             Centre  Per 1,000 inhabitants   \n",
              "8496  South and islands  Per 1,000 inhabitants   \n",
              "8497              South  Per 1,000 inhabitants   \n",
              "8498            Islands  Per 1,000 inhabitants   \n",
              "8499              Italy  Per 1,000 inhabitants   \n",
              "\n",
              "                                                  FONTE 2004 2005 2006  ...  \\\n",
              "8492  Co.Ge.A.P.S. (Consorzio Gestione Anagrafica Pr...                 ...   \n",
              "8493  Co.Ge.A.P.S. (Consorzio Gestione Anagrafica Pr...                 ...   \n",
              "8494  Co.Ge.A.P.S. (Consorzio Gestione Anagrafica Pr...                 ...   \n",
              "8495  Co.Ge.A.P.S. (Consorzio Gestione Anagrafica Pr...                 ...   \n",
              "8496  Co.Ge.A.P.S. (Consorzio Gestione Anagrafica Pr...                 ...   \n",
              "8497  Co.Ge.A.P.S. (Consorzio Gestione Anagrafica Pr...                 ...   \n",
              "8498  Co.Ge.A.P.S. (Consorzio Gestione Anagrafica Pr...                 ...   \n",
              "8499  Co.Ge.A.P.S. (Consorzio Gestione Anagrafica Pr...                 ...   \n",
              "\n",
              "     2015 2016 2017 2018 2019 2020 2021 2022 2023 NOTA  \n",
              "8492  6.1  6.1  6.3  6.3  6.4  6.6  6.4                 \n",
              "8493  5.7  5.7  6.0  5.9  6.1  6.3  6.1                 \n",
              "8494  6.6  6.6  6.7  6.8  6.8  7.0  6.8                 \n",
              "8495  5.9  6.1  6.3  6.4  6.8  7.0  7.1                 \n",
              "8496  5.2  5.5  5.8  5.6  6.2  6.3  6.3                 \n",
              "8497  5.2  5.5  5.9  5.6  6.3  6.3  6.5                 \n",
              "8498  5.3  5.5  5.7  5.7  6.1  6.2  6.0                 \n",
              "8499  5.7  5.9  6.1  6.1  6.4  6.6  6.5                 \n",
              "\n",
              "[8 rows x 28 columns]"
            ],
            "text/html": [
              "\n",
              "  <div id=\"df-dd3eccfe-12f4-4833-9c08-ac4169763270\" class=\"colab-df-container\">\n",
              "    <div>\n",
              "<style scoped>\n",
              "    .dataframe tbody tr th:only-of-type {\n",
              "        vertical-align: middle;\n",
              "    }\n",
              "\n",
              "    .dataframe tbody tr th {\n",
              "        vertical-align: top;\n",
              "    }\n",
              "\n",
              "    .dataframe thead th {\n",
              "        text-align: right;\n",
              "    }\n",
              "</style>\n",
              "<table border=\"1\" class=\"dataframe\">\n",
              "  <thead>\n",
              "    <tr style=\"text-align: right;\">\n",
              "      <th></th>\n",
              "      <th>DOMINIO</th>\n",
              "      <th>CODICE</th>\n",
              "      <th>INDICATORE</th>\n",
              "      <th>SESSO</th>\n",
              "      <th>TERRITORIO</th>\n",
              "      <th>UNITA_MISURA</th>\n",
              "      <th>FONTE</th>\n",
              "      <th>2004</th>\n",
              "      <th>2005</th>\n",
              "      <th>2006</th>\n",
              "      <th>...</th>\n",
              "      <th>2015</th>\n",
              "      <th>2016</th>\n",
              "      <th>2017</th>\n",
              "      <th>2018</th>\n",
              "      <th>2019</th>\n",
              "      <th>2020</th>\n",
              "      <th>2021</th>\n",
              "      <th>2022</th>\n",
              "      <th>2023</th>\n",
              "      <th>NOTA</th>\n",
              "    </tr>\n",
              "  </thead>\n",
              "  <tbody>\n",
              "    <tr>\n",
              "      <th>8492</th>\n",
              "      <td>Quality of services</td>\n",
              "      <td>SDG-4</td>\n",
              "      <td>Nurses and midwives</td>\n",
              "      <td>Total</td>\n",
              "      <td>North</td>\n",
              "      <td>Per 1,000 inhabitants</td>\n",
              "      <td>Co.Ge.A.P.S. (Consorzio Gestione Anagrafica Pr...</td>\n",
              "      <td></td>\n",
              "      <td></td>\n",
              "      <td></td>\n",
              "      <td>...</td>\n",
              "      <td>6.1</td>\n",
              "      <td>6.1</td>\n",
              "      <td>6.3</td>\n",
              "      <td>6.3</td>\n",
              "      <td>6.4</td>\n",
              "      <td>6.6</td>\n",
              "      <td>6.4</td>\n",
              "      <td></td>\n",
              "      <td></td>\n",
              "      <td></td>\n",
              "    </tr>\n",
              "    <tr>\n",
              "      <th>8493</th>\n",
              "      <td>Quality of services</td>\n",
              "      <td>SDG-4</td>\n",
              "      <td>Nurses and midwives</td>\n",
              "      <td>Total</td>\n",
              "      <td>North-west</td>\n",
              "      <td>Per 1,000 inhabitants</td>\n",
              "      <td>Co.Ge.A.P.S. (Consorzio Gestione Anagrafica Pr...</td>\n",
              "      <td></td>\n",
              "      <td></td>\n",
              "      <td></td>\n",
              "      <td>...</td>\n",
              "      <td>5.7</td>\n",
              "      <td>5.7</td>\n",
              "      <td>6.0</td>\n",
              "      <td>5.9</td>\n",
              "      <td>6.1</td>\n",
              "      <td>6.3</td>\n",
              "      <td>6.1</td>\n",
              "      <td></td>\n",
              "      <td></td>\n",
              "      <td></td>\n",
              "    </tr>\n",
              "    <tr>\n",
              "      <th>8494</th>\n",
              "      <td>Quality of services</td>\n",
              "      <td>SDG-4</td>\n",
              "      <td>Nurses and midwives</td>\n",
              "      <td>Total</td>\n",
              "      <td>North-east</td>\n",
              "      <td>Per 1,000 inhabitants</td>\n",
              "      <td>Co.Ge.A.P.S. (Consorzio Gestione Anagrafica Pr...</td>\n",
              "      <td></td>\n",
              "      <td></td>\n",
              "      <td></td>\n",
              "      <td>...</td>\n",
              "      <td>6.6</td>\n",
              "      <td>6.6</td>\n",
              "      <td>6.7</td>\n",
              "      <td>6.8</td>\n",
              "      <td>6.8</td>\n",
              "      <td>7.0</td>\n",
              "      <td>6.8</td>\n",
              "      <td></td>\n",
              "      <td></td>\n",
              "      <td></td>\n",
              "    </tr>\n",
              "    <tr>\n",
              "      <th>8495</th>\n",
              "      <td>Quality of services</td>\n",
              "      <td>SDG-4</td>\n",
              "      <td>Nurses and midwives</td>\n",
              "      <td>Total</td>\n",
              "      <td>Centre</td>\n",
              "      <td>Per 1,000 inhabitants</td>\n",
              "      <td>Co.Ge.A.P.S. (Consorzio Gestione Anagrafica Pr...</td>\n",
              "      <td></td>\n",
              "      <td></td>\n",
              "      <td></td>\n",
              "      <td>...</td>\n",
              "      <td>5.9</td>\n",
              "      <td>6.1</td>\n",
              "      <td>6.3</td>\n",
              "      <td>6.4</td>\n",
              "      <td>6.8</td>\n",
              "      <td>7.0</td>\n",
              "      <td>7.1</td>\n",
              "      <td></td>\n",
              "      <td></td>\n",
              "      <td></td>\n",
              "    </tr>\n",
              "    <tr>\n",
              "      <th>8496</th>\n",
              "      <td>Quality of services</td>\n",
              "      <td>SDG-4</td>\n",
              "      <td>Nurses and midwives</td>\n",
              "      <td>Total</td>\n",
              "      <td>South and islands</td>\n",
              "      <td>Per 1,000 inhabitants</td>\n",
              "      <td>Co.Ge.A.P.S. (Consorzio Gestione Anagrafica Pr...</td>\n",
              "      <td></td>\n",
              "      <td></td>\n",
              "      <td></td>\n",
              "      <td>...</td>\n",
              "      <td>5.2</td>\n",
              "      <td>5.5</td>\n",
              "      <td>5.8</td>\n",
              "      <td>5.6</td>\n",
              "      <td>6.2</td>\n",
              "      <td>6.3</td>\n",
              "      <td>6.3</td>\n",
              "      <td></td>\n",
              "      <td></td>\n",
              "      <td></td>\n",
              "    </tr>\n",
              "    <tr>\n",
              "      <th>8497</th>\n",
              "      <td>Quality of services</td>\n",
              "      <td>SDG-4</td>\n",
              "      <td>Nurses and midwives</td>\n",
              "      <td>Total</td>\n",
              "      <td>South</td>\n",
              "      <td>Per 1,000 inhabitants</td>\n",
              "      <td>Co.Ge.A.P.S. (Consorzio Gestione Anagrafica Pr...</td>\n",
              "      <td></td>\n",
              "      <td></td>\n",
              "      <td></td>\n",
              "      <td>...</td>\n",
              "      <td>5.2</td>\n",
              "      <td>5.5</td>\n",
              "      <td>5.9</td>\n",
              "      <td>5.6</td>\n",
              "      <td>6.3</td>\n",
              "      <td>6.3</td>\n",
              "      <td>6.5</td>\n",
              "      <td></td>\n",
              "      <td></td>\n",
              "      <td></td>\n",
              "    </tr>\n",
              "    <tr>\n",
              "      <th>8498</th>\n",
              "      <td>Quality of services</td>\n",
              "      <td>SDG-4</td>\n",
              "      <td>Nurses and midwives</td>\n",
              "      <td>Total</td>\n",
              "      <td>Islands</td>\n",
              "      <td>Per 1,000 inhabitants</td>\n",
              "      <td>Co.Ge.A.P.S. (Consorzio Gestione Anagrafica Pr...</td>\n",
              "      <td></td>\n",
              "      <td></td>\n",
              "      <td></td>\n",
              "      <td>...</td>\n",
              "      <td>5.3</td>\n",
              "      <td>5.5</td>\n",
              "      <td>5.7</td>\n",
              "      <td>5.7</td>\n",
              "      <td>6.1</td>\n",
              "      <td>6.2</td>\n",
              "      <td>6.0</td>\n",
              "      <td></td>\n",
              "      <td></td>\n",
              "      <td></td>\n",
              "    </tr>\n",
              "    <tr>\n",
              "      <th>8499</th>\n",
              "      <td>Quality of services</td>\n",
              "      <td>SDG-4</td>\n",
              "      <td>Nurses and midwives</td>\n",
              "      <td>Total</td>\n",
              "      <td>Italy</td>\n",
              "      <td>Per 1,000 inhabitants</td>\n",
              "      <td>Co.Ge.A.P.S. (Consorzio Gestione Anagrafica Pr...</td>\n",
              "      <td></td>\n",
              "      <td></td>\n",
              "      <td></td>\n",
              "      <td>...</td>\n",
              "      <td>5.7</td>\n",
              "      <td>5.9</td>\n",
              "      <td>6.1</td>\n",
              "      <td>6.1</td>\n",
              "      <td>6.4</td>\n",
              "      <td>6.6</td>\n",
              "      <td>6.5</td>\n",
              "      <td></td>\n",
              "      <td></td>\n",
              "      <td></td>\n",
              "    </tr>\n",
              "  </tbody>\n",
              "</table>\n",
              "<p>8 rows × 28 columns</p>\n",
              "</div>\n",
              "    <div class=\"colab-df-buttons\">\n",
              "\n",
              "  <div class=\"colab-df-container\">\n",
              "    <button class=\"colab-df-convert\" onclick=\"convertToInteractive('df-dd3eccfe-12f4-4833-9c08-ac4169763270')\"\n",
              "            title=\"Convert this dataframe to an interactive table.\"\n",
              "            style=\"display:none;\">\n",
              "\n",
              "  <svg xmlns=\"http://www.w3.org/2000/svg\" height=\"24px\" viewBox=\"0 -960 960 960\">\n",
              "    <path d=\"M120-120v-720h720v720H120Zm60-500h600v-160H180v160Zm220 220h160v-160H400v160Zm0 220h160v-160H400v160ZM180-400h160v-160H180v160Zm440 0h160v-160H620v160ZM180-180h160v-160H180v160Zm440 0h160v-160H620v160Z\"/>\n",
              "  </svg>\n",
              "    </button>\n",
              "\n",
              "  <style>\n",
              "    .colab-df-container {\n",
              "      display:flex;\n",
              "      gap: 12px;\n",
              "    }\n",
              "\n",
              "    .colab-df-convert {\n",
              "      background-color: #E8F0FE;\n",
              "      border: none;\n",
              "      border-radius: 50%;\n",
              "      cursor: pointer;\n",
              "      display: none;\n",
              "      fill: #1967D2;\n",
              "      height: 32px;\n",
              "      padding: 0 0 0 0;\n",
              "      width: 32px;\n",
              "    }\n",
              "\n",
              "    .colab-df-convert:hover {\n",
              "      background-color: #E2EBFA;\n",
              "      box-shadow: 0px 1px 2px rgba(60, 64, 67, 0.3), 0px 1px 3px 1px rgba(60, 64, 67, 0.15);\n",
              "      fill: #174EA6;\n",
              "    }\n",
              "\n",
              "    .colab-df-buttons div {\n",
              "      margin-bottom: 4px;\n",
              "    }\n",
              "\n",
              "    [theme=dark] .colab-df-convert {\n",
              "      background-color: #3B4455;\n",
              "      fill: #D2E3FC;\n",
              "    }\n",
              "\n",
              "    [theme=dark] .colab-df-convert:hover {\n",
              "      background-color: #434B5C;\n",
              "      box-shadow: 0px 1px 3px 1px rgba(0, 0, 0, 0.15);\n",
              "      filter: drop-shadow(0px 1px 2px rgba(0, 0, 0, 0.3));\n",
              "      fill: #FFFFFF;\n",
              "    }\n",
              "  </style>\n",
              "\n",
              "    <script>\n",
              "      const buttonEl =\n",
              "        document.querySelector('#df-dd3eccfe-12f4-4833-9c08-ac4169763270 button.colab-df-convert');\n",
              "      buttonEl.style.display =\n",
              "        google.colab.kernel.accessAllowed ? 'block' : 'none';\n",
              "\n",
              "      async function convertToInteractive(key) {\n",
              "        const element = document.querySelector('#df-dd3eccfe-12f4-4833-9c08-ac4169763270');\n",
              "        const dataTable =\n",
              "          await google.colab.kernel.invokeFunction('convertToInteractive',\n",
              "                                                    [key], {});\n",
              "        if (!dataTable) return;\n",
              "\n",
              "        const docLinkHtml = 'Like what you see? Visit the ' +\n",
              "          '<a target=\"_blank\" href=https://colab.research.google.com/notebooks/data_table.ipynb>data table notebook</a>'\n",
              "          + ' to learn more about interactive tables.';\n",
              "        element.innerHTML = '';\n",
              "        dataTable['output_type'] = 'display_data';\n",
              "        await google.colab.output.renderOutput(dataTable, element);\n",
              "        const docLink = document.createElement('div');\n",
              "        docLink.innerHTML = docLinkHtml;\n",
              "        element.appendChild(docLink);\n",
              "      }\n",
              "    </script>\n",
              "  </div>\n",
              "\n",
              "\n",
              "<div id=\"df-f3b277aa-008f-4068-b2f5-163f376c0fcc\">\n",
              "  <button class=\"colab-df-quickchart\" onclick=\"quickchart('df-f3b277aa-008f-4068-b2f5-163f376c0fcc')\"\n",
              "            title=\"Suggest charts.\"\n",
              "            style=\"display:none;\">\n",
              "\n",
              "<svg xmlns=\"http://www.w3.org/2000/svg\" height=\"24px\"viewBox=\"0 0 24 24\"\n",
              "     width=\"24px\">\n",
              "    <g>\n",
              "        <path d=\"M19 3H5c-1.1 0-2 .9-2 2v14c0 1.1.9 2 2 2h14c1.1 0 2-.9 2-2V5c0-1.1-.9-2-2-2zM9 17H7v-7h2v7zm4 0h-2V7h2v10zm4 0h-2v-4h2v4z\"/>\n",
              "    </g>\n",
              "</svg>\n",
              "  </button>\n",
              "\n",
              "<style>\n",
              "  .colab-df-quickchart {\n",
              "      --bg-color: #E8F0FE;\n",
              "      --fill-color: #1967D2;\n",
              "      --hover-bg-color: #E2EBFA;\n",
              "      --hover-fill-color: #174EA6;\n",
              "      --disabled-fill-color: #AAA;\n",
              "      --disabled-bg-color: #DDD;\n",
              "  }\n",
              "\n",
              "  [theme=dark] .colab-df-quickchart {\n",
              "      --bg-color: #3B4455;\n",
              "      --fill-color: #D2E3FC;\n",
              "      --hover-bg-color: #434B5C;\n",
              "      --hover-fill-color: #FFFFFF;\n",
              "      --disabled-bg-color: #3B4455;\n",
              "      --disabled-fill-color: #666;\n",
              "  }\n",
              "\n",
              "  .colab-df-quickchart {\n",
              "    background-color: var(--bg-color);\n",
              "    border: none;\n",
              "    border-radius: 50%;\n",
              "    cursor: pointer;\n",
              "    display: none;\n",
              "    fill: var(--fill-color);\n",
              "    height: 32px;\n",
              "    padding: 0;\n",
              "    width: 32px;\n",
              "  }\n",
              "\n",
              "  .colab-df-quickchart:hover {\n",
              "    background-color: var(--hover-bg-color);\n",
              "    box-shadow: 0 1px 2px rgba(60, 64, 67, 0.3), 0 1px 3px 1px rgba(60, 64, 67, 0.15);\n",
              "    fill: var(--button-hover-fill-color);\n",
              "  }\n",
              "\n",
              "  .colab-df-quickchart-complete:disabled,\n",
              "  .colab-df-quickchart-complete:disabled:hover {\n",
              "    background-color: var(--disabled-bg-color);\n",
              "    fill: var(--disabled-fill-color);\n",
              "    box-shadow: none;\n",
              "  }\n",
              "\n",
              "  .colab-df-spinner {\n",
              "    border: 2px solid var(--fill-color);\n",
              "    border-color: transparent;\n",
              "    border-bottom-color: var(--fill-color);\n",
              "    animation:\n",
              "      spin 1s steps(1) infinite;\n",
              "  }\n",
              "\n",
              "  @keyframes spin {\n",
              "    0% {\n",
              "      border-color: transparent;\n",
              "      border-bottom-color: var(--fill-color);\n",
              "      border-left-color: var(--fill-color);\n",
              "    }\n",
              "    20% {\n",
              "      border-color: transparent;\n",
              "      border-left-color: var(--fill-color);\n",
              "      border-top-color: var(--fill-color);\n",
              "    }\n",
              "    30% {\n",
              "      border-color: transparent;\n",
              "      border-left-color: var(--fill-color);\n",
              "      border-top-color: var(--fill-color);\n",
              "      border-right-color: var(--fill-color);\n",
              "    }\n",
              "    40% {\n",
              "      border-color: transparent;\n",
              "      border-right-color: var(--fill-color);\n",
              "      border-top-color: var(--fill-color);\n",
              "    }\n",
              "    60% {\n",
              "      border-color: transparent;\n",
              "      border-right-color: var(--fill-color);\n",
              "    }\n",
              "    80% {\n",
              "      border-color: transparent;\n",
              "      border-right-color: var(--fill-color);\n",
              "      border-bottom-color: var(--fill-color);\n",
              "    }\n",
              "    90% {\n",
              "      border-color: transparent;\n",
              "      border-bottom-color: var(--fill-color);\n",
              "    }\n",
              "  }\n",
              "</style>\n",
              "\n",
              "  <script>\n",
              "    async function quickchart(key) {\n",
              "      const quickchartButtonEl =\n",
              "        document.querySelector('#' + key + ' button');\n",
              "      quickchartButtonEl.disabled = true;  // To prevent multiple clicks.\n",
              "      quickchartButtonEl.classList.add('colab-df-spinner');\n",
              "      try {\n",
              "        const charts = await google.colab.kernel.invokeFunction(\n",
              "            'suggestCharts', [key], {});\n",
              "      } catch (error) {\n",
              "        console.error('Error during call to suggestCharts:', error);\n",
              "      }\n",
              "      quickchartButtonEl.classList.remove('colab-df-spinner');\n",
              "      quickchartButtonEl.classList.add('colab-df-quickchart-complete');\n",
              "    }\n",
              "    (() => {\n",
              "      let quickchartButtonEl =\n",
              "        document.querySelector('#df-f3b277aa-008f-4068-b2f5-163f376c0fcc button');\n",
              "      quickchartButtonEl.style.display =\n",
              "        google.colab.kernel.accessAllowed ? 'block' : 'none';\n",
              "    })();\n",
              "  </script>\n",
              "</div>\n",
              "    </div>\n",
              "  </div>\n"
            ]
          },
          "metadata": {},
          "execution_count": 144
        }
      ]
    },
    {
      "cell_type": "code",
      "source": [
        "italy_bes.shape #looking at the number of rows and columns"
      ],
      "metadata": {
        "colab": {
          "base_uri": "https://localhost:8080/"
        },
        "id": "dsPqN8AJ0uGc",
        "outputId": "50721267-d79f-4b04-f6e6-c02d8b207f2d"
      },
      "execution_count": 145,
      "outputs": [
        {
          "output_type": "execute_result",
          "data": {
            "text/plain": [
              "(8500, 28)"
            ]
          },
          "metadata": {},
          "execution_count": 145
        }
      ]
    },
    {
      "cell_type": "code",
      "source": [
        "italy_bes.columns #the name of all 28 columns"
      ],
      "metadata": {
        "colab": {
          "base_uri": "https://localhost:8080/"
        },
        "id": "4kKmana5sHGW",
        "outputId": "febc03cf-4142-42e3-92c4-8de9db5e8477"
      },
      "execution_count": 146,
      "outputs": [
        {
          "output_type": "execute_result",
          "data": {
            "text/plain": [
              "Index([     'DOMINIO',       'CODICE',   'INDICATORE',        'SESSO',\n",
              "         'TERRITORIO', 'UNITA_MISURA',        'FONTE',           2004,\n",
              "                 2005,           2006,           2007,           2008,\n",
              "                 2009,           2010,           2011,           2012,\n",
              "                 2013,           2014,           2015,           2016,\n",
              "                 2017,           2018,           2019,           2020,\n",
              "                 2021,           2022,           2023,         'NOTA'],\n",
              "      dtype='object')"
            ]
          },
          "metadata": {},
          "execution_count": 146
        }
      ]
    },
    {
      "cell_type": "markdown",
      "source": [
        "###Renaming Columns\n",
        "Though the data is in English, the column labels are Italian. For ease, I'll be translating those into English and use snake_case."
      ],
      "metadata": {
        "id": "MWYyGUURtWQc"
      }
    },
    {
      "cell_type": "code",
      "source": [
        "italy_bes = italy_bes.rename(columns={'DOMINIO':'domain', 'CODICE': 'code', 'INDICATORE': 'indicator',\n",
        "                            'SESSO': 'sex', 'TERRITORIO' : 'territory', 'UNITA_MISURA' : 'unit',\n",
        "                            'FONTE' : 'source', 'NOTA': 'note'})"
      ],
      "metadata": {
        "id": "NZHHSugWtYLa"
      },
      "execution_count": 147,
      "outputs": []
    },
    {
      "cell_type": "code",
      "source": [
        "italy_bes.columns"
      ],
      "metadata": {
        "colab": {
          "base_uri": "https://localhost:8080/"
        },
        "id": "jUJYndfE2Elc",
        "outputId": "ccec92c6-83d0-4428-f6e3-110745ce51ab"
      },
      "execution_count": 148,
      "outputs": [
        {
          "output_type": "execute_result",
          "data": {
            "text/plain": [
              "Index([   'domain',      'code', 'indicator',       'sex', 'territory',\n",
              "            'unit',    'source',        2004,        2005,        2006,\n",
              "              2007,        2008,        2009,        2010,        2011,\n",
              "              2012,        2013,        2014,        2015,        2016,\n",
              "              2017,        2018,        2019,        2020,        2021,\n",
              "              2022,        2023,      'note'],\n",
              "      dtype='object')"
            ]
          },
          "metadata": {},
          "execution_count": 148
        }
      ]
    },
    {
      "cell_type": "markdown",
      "source": [
        "###Changing Data Types"
      ],
      "metadata": {
        "id": "Ra3EWKngSeym"
      }
    },
    {
      "cell_type": "code",
      "source": [
        "italy_bes.dtypes"
      ],
      "metadata": {
        "colab": {
          "base_uri": "https://localhost:8080/"
        },
        "id": "CKg1RRlqSl9y",
        "outputId": "f26653c3-a673-4bdf-8e94-e4cdab9911e1"
      },
      "execution_count": 149,
      "outputs": [
        {
          "output_type": "execute_result",
          "data": {
            "text/plain": [
              "domain       object\n",
              "code         object\n",
              "indicator    object\n",
              "sex          object\n",
              "territory    object\n",
              "unit         object\n",
              "source       object\n",
              "2004         object\n",
              "2005         object\n",
              "2006         object\n",
              "2007         object\n",
              "2008         object\n",
              "2009         object\n",
              "2010         object\n",
              "2011         object\n",
              "2012         object\n",
              "2013         object\n",
              "2014         object\n",
              "2015         object\n",
              "2016         object\n",
              "2017         object\n",
              "2018         object\n",
              "2019         object\n",
              "2020         object\n",
              "2021         object\n",
              "2022         object\n",
              "2023         object\n",
              "note         object\n",
              "dtype: object"
            ]
          },
          "metadata": {},
          "execution_count": 149
        }
      ]
    },
    {
      "cell_type": "markdown",
      "source": [
        "Pandas has interpreted all our columns as string data types. We'll need to fix this for the columns of years 2004-2023."
      ],
      "metadata": {
        "id": "LYo16NOFSoSP"
      }
    },
    {
      "cell_type": "code",
      "source": [
        "cols_to_convert = {2004, 2005, 2006, 2007, 2008, 2009, 2010, 2011, 2012, 2013, 2014, 2015, 2016, 2017, 2018, 2019, 2020, 2021, 2022, 2023}\n",
        "for col in cols_to_convert:\n",
        "  italy_bes[col] = italy_bes[col].apply(pd.to_numeric, errors = 'coerce') #set errors as 'coerce' to convert empty values to nan"
      ],
      "metadata": {
        "id": "CNp0yfGCa_sO"
      },
      "execution_count": 150,
      "outputs": []
    },
    {
      "cell_type": "code",
      "source": [
        "italy_bes.dtypes #check data type"
      ],
      "metadata": {
        "colab": {
          "base_uri": "https://localhost:8080/"
        },
        "id": "6fILmsr_hvFT",
        "outputId": "02bd670c-03f4-4294-c54f-29e350e220c5"
      },
      "execution_count": 151,
      "outputs": [
        {
          "output_type": "execute_result",
          "data": {
            "text/plain": [
              "domain        object\n",
              "code          object\n",
              "indicator     object\n",
              "sex           object\n",
              "territory     object\n",
              "unit          object\n",
              "source        object\n",
              "2004         float64\n",
              "2005         float64\n",
              "2006         float64\n",
              "2007         float64\n",
              "2008         float64\n",
              "2009         float64\n",
              "2010         float64\n",
              "2011         float64\n",
              "2012         float64\n",
              "2013         float64\n",
              "2014         float64\n",
              "2015         float64\n",
              "2016         float64\n",
              "2017         float64\n",
              "2018         float64\n",
              "2019         float64\n",
              "2020         float64\n",
              "2021         float64\n",
              "2022         float64\n",
              "2023         float64\n",
              "note          object\n",
              "dtype: object"
            ]
          },
          "metadata": {},
          "execution_count": 151
        }
      ]
    },
    {
      "cell_type": "markdown",
      "source": [
        "###Choosing Indicators\n",
        "Our data doesn't seem quite right. I'd love the values under the 'indicator' column to be columns instead of being listed as values."
      ],
      "metadata": {
        "id": "dJ3SNSlUz4Mq"
      }
    },
    {
      "cell_type": "code",
      "source": [
        "italy_bes['indicator'].value_counts() #look at how many unique indicators our data has"
      ],
      "metadata": {
        "colab": {
          "base_uri": "https://localhost:8080/"
        },
        "id": "ZI26th6Z5tPQ",
        "outputId": "a8bb5bd6-ffd1-47ee-f16c-c41573614a20"
      },
      "execution_count": 152,
      "outputs": [
        {
          "output_type": "execute_result",
          "data": {
            "text/plain": [
              "Life expectancy at birth                                                                                             90\n",
              "Share of employed people aged 15-64 years working over 60 hours per week (including paid work and household work)    90\n",
              "Trust in political parties                                                                                           90\n",
              "Trust in judicial system                                                                                             90\n",
              "Trust in the parliament                                                                                              90\n",
              "                                                                                                                     ..\n",
              "Per capita net wealth                                                                                                 6\n",
              "Emissions of CO2 and other greenhouse gases                                                                           1\n",
              "Women in decision-making bodies                                                                                       1\n",
              "Women in the boards of companies listed in stock exchange                                                             1\n",
              "Gross fixed capital formation of intellectual property products                                                       1\n",
              "Name: indicator, Length: 152, dtype: int64"
            ]
          },
          "metadata": {},
          "execution_count": 152
        }
      ]
    },
    {
      "cell_type": "markdown",
      "source": [
        "There are 152 indicators in total; that'd mean 152 columns! It's quite obvious that I'll need to choose a few indicators out of the 152. And luckily, all of the indicators are divided into similar categories(domains)."
      ],
      "metadata": {
        "id": "AIHCBG5R-osH"
      }
    },
    {
      "cell_type": "code",
      "source": [
        "italy_bes['domain'].unique()"
      ],
      "metadata": {
        "colab": {
          "base_uri": "https://localhost:8080/"
        },
        "id": "gc8VPBsXuzCx",
        "outputId": "d4b51aba-4398-4282-c9f8-340948bc0e0f"
      },
      "execution_count": 153,
      "outputs": [
        {
          "output_type": "execute_result",
          "data": {
            "text/plain": [
              "array(['Health', 'Education and training', 'Work and life balance',\n",
              "       'Economic well-being', 'Social relationships',\n",
              "       'Politics and Institutions', 'Safety', 'Subjective well-being',\n",
              "       'Landscape and cultural heritage', 'Environment',\n",
              "       'Innovation, research and creativity', 'Quality of services'],\n",
              "      dtype=object)"
            ]
          },
          "metadata": {},
          "execution_count": 153
        }
      ]
    },
    {
      "cell_type": "markdown",
      "source": [
        "The dataframe has 12 domains. I can also see the unique indicators contained in a given domain."
      ],
      "metadata": {
        "id": "CFAbVEqEvafR"
      }
    },
    {
      "cell_type": "code",
      "source": [
        "italy_bes[italy_bes['domain'] == 'Health'].value_counts('indicator') #Look at the unique indicators in the Health domain"
      ],
      "metadata": {
        "colab": {
          "base_uri": "https://localhost:8080/"
        },
        "id": "1Rh54xtt4ejN",
        "outputId": "1974d200-50a0-4d5a-977e-50dfee96baf2"
      },
      "execution_count": 154,
      "outputs": [
        {
          "output_type": "execute_result",
          "data": {
            "text/plain": [
              "indicator\n",
              "Adequate nutrition (standardised rates)                                                         90\n",
              "Age-standardised cancer mortality rate (20-64 years old)                                        90\n",
              "Age-standardised mortality rate for dementia and nervous system diseases (65 years and over)    90\n",
              "Alcohol consumption (standardised rates)                                                        90\n",
              "Avoidable mortality (age 0-74)                                                                  90\n",
              "Healthy life expectancy at birth                                                                90\n",
              "Infant mortality rate                                                                           90\n",
              "Life expectancy at birth                                                                        90\n",
              "Life expectancy without activity limitations at 65 years of age                                 90\n",
              "Mental health index (SF36)                                                                      90\n",
              "Overweight or obesity (standardised rates)                                                      90\n",
              "Road accidents mortality rate (15-34 years old)                                                 90\n",
              "Sedentariness (standardised rates)                                                              90\n",
              "Smoking (standardised rates)                                                                    90\n",
              "Multimorbidity and severe limitations (75 years and over)                                       32\n",
              "dtype: int64"
            ]
          },
          "metadata": {},
          "execution_count": 154
        }
      ]
    },
    {
      "cell_type": "markdown",
      "source": [
        "There are 15 indicators for the Health domain. But, none of them match my interests, so I'll continue exploring the next domain."
      ],
      "metadata": {
        "id": "X-CBOGaL-4HY"
      }
    },
    {
      "cell_type": "code",
      "source": [
        "#look at the next domain\n",
        "italy_bes[italy_bes['domain'] == 'Education and training'].value_counts('indicator')"
      ],
      "metadata": {
        "colab": {
          "base_uri": "https://localhost:8080/"
        },
        "id": "3JVQnfkqDkxx",
        "outputId": "1ac894c7-7ffc-4465-ffd7-aaac8614883f"
      },
      "execution_count": 155,
      "outputs": [
        {
          "output_type": "execute_result",
          "data": {
            "text/plain": [
              "indicator\n",
              "Cultural participation outside the home                                       90\n",
              "Early leavers from education and training                                     90\n",
              "First-time entry rate to university by cohort of upper secondary graduates    90\n",
              "Individuals with basic or above basic overall digital skills                  90\n",
              "Participation in life-long learning                                           90\n",
              "People having completed tertiary education (30-34 years old)                  90\n",
              "People not in education, employment, or training (NEET)                       90\n",
              "People with at least upper secondary education level (25-64 years old)        90\n",
              "Reading books and newspapers                                                  90\n",
              "STEM graduates                                                                90\n",
              "Inadequate level of literacy (students in grade 8)                            75\n",
              "Inadequate level of numeracy (students in grade 8)                            75\n",
              "Use of libraries                                                              46\n",
              "Children aged 0-2 years enrolled in nursery school                            30\n",
              "Participation in the school system of children aged 4-5                       30\n",
              "dtype: int64"
            ]
          },
          "metadata": {},
          "execution_count": 155
        }
      ]
    },
    {
      "cell_type": "markdown",
      "source": [
        "Chosen indicator:\n",
        "* Cultural participation outside the home"
      ],
      "metadata": {
        "id": "4tMGXdRvF6a8"
      }
    },
    {
      "cell_type": "code",
      "source": [
        "#store the chosen indicator in a list\n",
        "good_indicators = ['Cultural participation outside the home']\n",
        "\n",
        "#look at the next domain\n",
        "italy_bes[italy_bes['domain'] == 'Work and life balance'].value_counts('indicator')"
      ],
      "metadata": {
        "colab": {
          "base_uri": "https://localhost:8080/"
        },
        "id": "FBt3bvf9EeN-",
        "outputId": "0f5b31c1-46b2-4edf-f13e-176d3ccb48b0"
      },
      "execution_count": 156,
      "outputs": [
        {
          "output_type": "execute_result",
          "data": {
            "text/plain": [
              "indicator\n",
              "Employed persons working from home                                                                                                              90\n",
              "Employment rate (20-64 years old)                                                                                                               90\n",
              "Incidence rate of fatal occupational injuries or injuries leading to permanent disability                                                       90\n",
              "Involuntary part time                                                                                                                           90\n",
              "Job satisfaction                                                                                                                                90\n",
              "Non-participation rate                                                                                                                          90\n",
              "Share of employed people aged 15-64 years working over 60 hours per week (including paid work and household work)                               90\n",
              "Share of employed persons who feel their work unsecure                                                                                          90\n",
              "Share of employed persons with temporary jobs for at least 5 years                                                                              90\n",
              "Share of employees with below 2/3 of median hourly earnings                                                                                     90\n",
              "Share of over-qualified employed persons                                                                                                        90\n",
              "Transition rate (12 months time-distance) from non-standard to standard employment                                                              90\n",
              "Ratio of employment rate for women aged 25-49 with at least one child aged 0-5 to the employment rate of women 25-49 years without children.    30\n",
              "Share of employed persons not in regular occupation                                                                                             30\n",
              "Household workload inequality index                                                                                                              8\n",
              "dtype: int64"
            ]
          },
          "metadata": {},
          "execution_count": 156
        }
      ]
    },
    {
      "cell_type": "markdown",
      "source": [
        "Here, I won't be choosing any indicators as I don't find any of them relevant."
      ],
      "metadata": {
        "id": "2KUjQtkhHQuj"
      }
    },
    {
      "cell_type": "markdown",
      "source": [
        "*Note: Reader can jump to the end of the \"indicators-choosing\" section by clicking [here].*"
      ],
      "metadata": {
        "id": "qQkvCrJBEZWO"
      }
    },
    {
      "cell_type": "code",
      "source": [
        "italy_bes[italy_bes['domain'] == 'Economic well-being'].value_counts('indicator')"
      ],
      "metadata": {
        "colab": {
          "base_uri": "https://localhost:8080/"
        },
        "id": "w9A1vqT_t0as",
        "outputId": "9b4c779b-4fc0-4fa7-985c-b07e6a5c1da1"
      },
      "execution_count": 157,
      "outputs": [
        {
          "output_type": "execute_result",
          "data": {
            "text/plain": [
              "indicator\n",
              "Disposable income inequality            32\n",
              "Great difficulty in making ends meet    32\n",
              "Housing cost overburden rate            32\n",
              "People at risk of poverty               32\n",
              "Severe housing deprivation              32\n",
              "Severe material deprivation rate        32\n",
              "Very low work intensity                 32\n",
              "Economic situation of the household     30\n",
              "Gross disposable income per capita      30\n",
              "Absolute poverty (incidence)            24\n",
              "Per capita net wealth                    6\n",
              "dtype: int64"
            ]
          },
          "metadata": {},
          "execution_count": 157
        }
      ]
    },
    {
      "cell_type": "markdown",
      "source": [
        "Here too, I don't need any of the indicators."
      ],
      "metadata": {
        "id": "efxov5RCINL8"
      }
    },
    {
      "cell_type": "code",
      "source": [
        "italy_bes[italy_bes['domain']=='Social relationships'].value_counts('indicator')"
      ],
      "metadata": {
        "colab": {
          "base_uri": "https://localhost:8080/"
        },
        "id": "BD5BEHkSw_4q",
        "outputId": "7b38844c-53c5-4784-ee0a-6b0faa32a54a"
      },
      "execution_count": 158,
      "outputs": [
        {
          "output_type": "execute_result",
          "data": {
            "text/plain": [
              "indicator\n",
              "Association funding                    90\n",
              "Civic and political participation      90\n",
              "Generalized trust                      90\n",
              "People to rely on                      90\n",
              "Satisfaction with family relations     90\n",
              "Satisfaction with friends relations    90\n",
              "Social participation                   90\n",
              "Voluntary activity                     90\n",
              "Nonprofit organizations                30\n",
              "dtype: int64"
            ]
          },
          "metadata": {},
          "execution_count": 158
        }
      ]
    },
    {
      "cell_type": "markdown",
      "source": [
        "Chosen indicators:\n",
        "* Generalized trust\n",
        "* Social Participation"
      ],
      "metadata": {
        "id": "O7KLlibYLldv"
      }
    },
    {
      "cell_type": "code",
      "source": [
        "good_indicators.extend(['Generalized trust','Social participation'])\n",
        "\n",
        "italy_bes[italy_bes['domain'] == 'Politics and Institutions'].value_counts('indicator')"
      ],
      "metadata": {
        "colab": {
          "base_uri": "https://localhost:8080/"
        },
        "id": "tEd9LHXqOGok",
        "outputId": "bedfd7fc-4d1a-4cc3-926b-232b2cdde5af"
      },
      "execution_count": 159,
      "outputs": [
        {
          "output_type": "execute_result",
          "data": {
            "text/plain": [
              "indicator\n",
              "Prison density                                               90\n",
              "Trust in judicial system                                     90\n",
              "Trust in police and fire brigade                             90\n",
              "Trust in political parties                                   90\n",
              "Trust in the parliament                                      90\n",
              "Voter turnout                                                90\n",
              "Length of civil proceedings                                  30\n",
              "Women and political representation at regional level         30\n",
              "Mean age of members of national Parliament                   28\n",
              "Women and political representation in national Parliament    28\n",
              "Women in decision-making bodies                               1\n",
              "Women in the boards of companies listed in stock exchange     1\n",
              "dtype: int64"
            ]
          },
          "metadata": {},
          "execution_count": 159
        }
      ]
    },
    {
      "cell_type": "markdown",
      "source": [
        "Chosen indicators:\n",
        "* Trust in police and fire brigade"
      ],
      "metadata": {
        "id": "Dujt4EdzPDoN"
      }
    },
    {
      "cell_type": "code",
      "source": [
        "good_indicators.append('Trust in police and fire brigade')\n",
        "\n",
        "italy_bes[italy_bes['domain'] == 'Safety'].value_counts('indicator')"
      ],
      "metadata": {
        "colab": {
          "base_uri": "https://localhost:8080/"
        },
        "id": "I1MNc-S7POC4",
        "outputId": "d09165e3-847a-411c-d1f7-22c75e383c5c"
      },
      "execution_count": 160,
      "outputs": [
        {
          "output_type": "execute_result",
          "data": {
            "text/plain": [
              "indicator\n",
              "Perception of safety walking alone in the dark    90\n",
              "Social decay (or incivilities)                    90\n",
              "Concrete fear                                     32\n",
              "Intentional homicide rate                         32\n",
              "Worries of being victim of a sexual violence      32\n",
              "Burglary                                          30\n",
              "Intimate partnership violence                     30\n",
              "Perception of crime risk                          30\n",
              "Physical violence on women                        30\n",
              "Pick-pocketing                                    30\n",
              "Robbery                                           30\n",
              "Sexual violence on women                          30\n",
              "dtype: int64"
            ]
          },
          "metadata": {},
          "execution_count": 160
        }
      ]
    },
    {
      "cell_type": "markdown",
      "source": [
        "Here, I'll be using all of the indicators listed in the Safety domain."
      ],
      "metadata": {
        "id": "TPwsFOeJPi6-"
      }
    },
    {
      "cell_type": "code",
      "source": [
        "#create a numpy array of unique values for the indicator column\n",
        "for indicate in np.array(italy_bes['indicator'].unique()):\n",
        "\n",
        "  #check if each unique indicator's domain is Safety\n",
        "  if italy_bes.loc[italy_bes['indicator']==indicate, 'domain'].values[0] == 'Safety':\n",
        "\n",
        "    #append to the list of good indicators if the corresponding domain is Safety\n",
        "    good_indicators.append(indicate)"
      ],
      "metadata": {
        "id": "vFbM-nBaSFwN"
      },
      "execution_count": 161,
      "outputs": []
    },
    {
      "cell_type": "code",
      "source": [
        "italy_bes[italy_bes['domain'] == 'Subjective well-being'].value_counts('indicator')"
      ],
      "metadata": {
        "colab": {
          "base_uri": "https://localhost:8080/"
        },
        "id": "J0pGPh33fU1i",
        "outputId": "41405a7e-bf3e-4f2c-9980-00a3183870c4"
      },
      "execution_count": 162,
      "outputs": [
        {
          "output_type": "execute_result",
          "data": {
            "text/plain": [
              "indicator\n",
              "Leisure time satisfaction                    90\n",
              "Life satisfaction                            90\n",
              "Negative judgement of future perspectives    90\n",
              "Positive judgement of future perspectives    90\n",
              "dtype: int64"
            ]
          },
          "metadata": {},
          "execution_count": 162
        }
      ]
    },
    {
      "cell_type": "markdown",
      "source": [
        "Chosen indicator:\n",
        "* Life satisfaction"
      ],
      "metadata": {
        "id": "5MZJJn6Qfk_m"
      }
    },
    {
      "cell_type": "code",
      "source": [
        "good_indicators.append('Life satisfaction')\n",
        "\n",
        "italy_bes[italy_bes['domain'] == 'Landscape and cultural heritage'].value_counts('indicator')"
      ],
      "metadata": {
        "colab": {
          "base_uri": "https://localhost:8080/"
        },
        "id": "Z4LO8m-Tfs2q",
        "outputId": "96d4d60d-bd74-4a21-a299-5fd923cabfac"
      },
      "execution_count": 163,
      "outputs": [
        {
          "output_type": "execute_result",
          "data": {
            "text/plain": [
              "indicator\n",
              "Concern about landscape deterioration                                                                 90\n",
              "People that are not satisfied with the quality of landscape of the place where they live              90\n",
              "Current expenditure of Municipalities for culture                                                     30\n",
              "Density and importance of musems' heritage                                                            30\n",
              "Erosion of farmland from abandonment                                                                  30\n",
              "Erosion of farmland from urban sprawl                                                                 30\n",
              "Illegal building rate                                                                                 30\n",
              "Impact of forest fires                                                                                30\n",
              "Presence of Historic Parks/Gardens and other Urban Parks recognised of significant public interest    30\n",
              "Pressures of mining and quarrying activities                                                          30\n",
              "Spread of rural tourism facilities                                                                    30\n",
              "dtype: int64"
            ]
          },
          "metadata": {},
          "execution_count": 163
        }
      ]
    },
    {
      "cell_type": "markdown",
      "source": [
        "Chosen indicators:\n",
        "* Current expenditure of Municipalities for culture\n",
        "* Densitiy and importance of musems' heritage\n",
        "* Presence of Historic Parks/Gardens and other Urban Parks recognised of significant public interest\n",
        "* Spread of rural tourism facilities"
      ],
      "metadata": {
        "id": "czxR541Tf3m4"
      }
    },
    {
      "cell_type": "code",
      "source": [
        "good_indicators.extend(['Current expenditure of Municipalities for culture', 'Density and importance of musems\\' heritage',\n",
        "                        'Presence of Historic Parks/Gardens and other Urban Parks recognised of significant public interest',\n",
        "                        'Spread of rural tourism facilities'])\n",
        "\n",
        "italy_bes[italy_bes['domain'] == 'Environment'].value_counts('indicator')"
      ],
      "metadata": {
        "colab": {
          "base_uri": "https://localhost:8080/"
        },
        "id": "Zg6LYxf5g6r7",
        "outputId": "288193ef-e716-443a-c02f-02de0924ab4d"
      },
      "execution_count": 164,
      "outputs": [
        {
          "output_type": "execute_result",
          "data": {
            "text/plain": [
              "indicator\n",
              "Concern for biodiversity loss                  90\n",
              "Concern for climate change                     90\n",
              "Satisfaction for the enviroment                90\n",
              "Air quality – PM2.5                            30\n",
              "Population at risk of flood                    30\n",
              "Warm Spell Duration Index                      30\n",
              "Urban green                                    30\n",
              "Soil sealing from artificial land cover        30\n",
              "Sewage treatment                               30\n",
              "Protected natural areas                        30\n",
              "Population at risk of landslides               30\n",
              "Landfill of waste                              30\n",
              "Municipal waste generated                      30\n",
              "Coastal bathing waters                         30\n",
              "Extreme precipitation events                   30\n",
              "Contaminated sites                             30\n",
              "Consecutive Dry Days                           30\n",
              "Water losses in urban supply system            30\n",
              "Electricity from renewable sources             26\n",
              "Domestic material consumption                  24\n",
              "Emissions of CO2 and other greenhouse gases     1\n",
              "dtype: int64"
            ]
          },
          "metadata": {},
          "execution_count": 164
        }
      ]
    },
    {
      "cell_type": "markdown",
      "source": [
        "Chosen indicators:\n",
        "* Satisfaction for the environment\n",
        "* Urban green\n",
        "* Protected natural areas"
      ],
      "metadata": {
        "id": "kfJPljSQhoew"
      }
    },
    {
      "cell_type": "code",
      "source": [
        "good_indicators.extend(['Satisfaction for the enviroment', 'Urban green','Protected natural areas'])\n",
        "\n",
        "italy_bes[italy_bes['domain'] == 'Innovation, research and creativity'].value_counts('indicator')"
      ],
      "metadata": {
        "colab": {
          "base_uri": "https://localhost:8080/"
        },
        "id": "EU5hP8zPhU1o",
        "outputId": "b2654e93-a91b-45ce-e1ac-a60d65028303"
      },
      "execution_count": 165,
      "outputs": [
        {
          "output_type": "execute_result",
          "data": {
            "text/plain": [
              "indicator\n",
              "Brain circulation (italians, 25-39 years old)                                     90\n",
              "Cultural employment (% of total employment)                                       90\n",
              "Impact of knowledge workers on employment                                         90\n",
              "Regular internet users                                                            90\n",
              "Availability of at least one computer and Internet connection in the household    30\n",
              "Enterprises with at least 10 persons employed with web sales to end customers     30\n",
              "Innovation rate of the national productive system                                 30\n",
              "Municipalities with online services for families                                  30\n",
              "Patent propensity                                                                 30\n",
              "R&D intensity                                                                     30\n",
              "Gross fixed capital formation of intellectual property products                    1\n",
              "dtype: int64"
            ]
          },
          "metadata": {},
          "execution_count": 165
        }
      ]
    },
    {
      "cell_type": "markdown",
      "source": [
        "No chosen indicators here."
      ],
      "metadata": {
        "id": "eYoUSH9fjEo7"
      }
    },
    {
      "cell_type": "code",
      "source": [
        "italy_bes[italy_bes['domain'] == 'Quality of services'].value_counts('indicator')"
      ],
      "metadata": {
        "colab": {
          "base_uri": "https://localhost:8080/"
        },
        "id": "GguGsHvIjIpg",
        "outputId": "6648b1ef-a6d6-426d-f83e-a1faabcedf6e"
      },
      "execution_count": 166,
      "outputs": [
        {
          "output_type": "execute_result",
          "data": {
            "text/plain": [
              "indicator\n",
              "Unmet need for medical examination                                             90\n",
              "Frequent users of public transport                                             46\n",
              "Satisfaction with means of transport                                           46\n",
              "Physicians                                                                     32\n",
              "Beds in the residential social-healthcare and social-welfare facilities        30\n",
              "Composite index of service accessibility                                       30\n",
              "General practitioners with a number of patients above the maximum threshold    30\n",
              "Hospital beds in high-care wards                                               30\n",
              "Hospital patient emigration to a different region                              30\n",
              "Integrated home assistance service                                             30\n",
              "Irregularities in electric power distribution                                  30\n",
              "Irregularities in water supply                                                 30\n",
              "Nurses and midwives                                                            30\n",
              "Overall Fixed Very High Capacity Network (VHCN) coverage                       30\n",
              "Seat-Km of public transport networks                                           30\n",
              "Separate collection service for municipal waste                                30\n",
              "dtype: int64"
            ]
          },
          "metadata": {},
          "execution_count": 166
        }
      ]
    },
    {
      "cell_type": "markdown",
      "source": [
        "Chosen indicator:\n",
        "* Composite index of service accessibility"
      ],
      "metadata": {
        "id": "wUyxqStmjWDB"
      }
    },
    {
      "cell_type": "code",
      "source": [
        "good_indicators.append('Composite index of service accessibility')\n",
        "\n",
        "len(good_indicators)"
      ],
      "metadata": {
        "colab": {
          "base_uri": "https://localhost:8080/"
        },
        "id": "Upsu_1Slk3Nv",
        "outputId": "86b612a1-f77b-406c-efc3-8a9d5ad1e8a3"
      },
      "execution_count": 167,
      "outputs": [
        {
          "output_type": "execute_result",
          "data": {
            "text/plain": [
              "25"
            ]
          },
          "metadata": {},
          "execution_count": 167
        }
      ]
    },
    {
      "cell_type": "markdown",
      "source": [
        "Finally! After a long process of deciding which indicators to consider relevant for my research questions, I now have a list of 25 indicators out of the 152. The next step is to get rid of all the rows with indicators that are not in my list, good_indicators."
      ],
      "metadata": {
        "id": "g-SYQMXnobRu"
      }
    },
    {
      "cell_type": "code",
      "source": [
        "good_indicators"
      ],
      "metadata": {
        "colab": {
          "base_uri": "https://localhost:8080/"
        },
        "id": "ushTlghbKQAq",
        "outputId": "d92b75c1-928d-4302-fc21-70509210a1da"
      },
      "execution_count": 168,
      "outputs": [
        {
          "output_type": "execute_result",
          "data": {
            "text/plain": [
              "['Cultural participation outside the home',\n",
              " 'Generalized trust',\n",
              " 'Social participation',\n",
              " 'Trust in police and fire brigade',\n",
              " 'Intentional homicide rate',\n",
              " 'Burglary',\n",
              " 'Pick-pocketing',\n",
              " 'Robbery',\n",
              " 'Physical violence on women',\n",
              " 'Sexual violence on women',\n",
              " 'Intimate partnership violence',\n",
              " 'Worries of being victim of a sexual violence',\n",
              " 'Perception of safety walking alone in the dark',\n",
              " 'Concrete fear',\n",
              " 'Social decay (or incivilities)',\n",
              " 'Perception of crime risk',\n",
              " 'Life satisfaction',\n",
              " 'Current expenditure of Municipalities for culture',\n",
              " \"Density and importance of musems' heritage\",\n",
              " 'Presence of Historic Parks/Gardens and other Urban Parks recognised of significant public interest',\n",
              " 'Spread of rural tourism facilities',\n",
              " 'Satisfaction for the enviroment',\n",
              " 'Urban green',\n",
              " 'Protected natural areas',\n",
              " 'Composite index of service accessibility']"
            ]
          },
          "metadata": {},
          "execution_count": 168
        }
      ]
    },
    {
      "cell_type": "code",
      "source": [
        "italy_bes = italy_bes[italy_bes['indicator'].isin(good_indicators)]"
      ],
      "metadata": {
        "id": "0veBXuv1vZwU"
      },
      "execution_count": 108,
      "outputs": []
    },
    {
      "cell_type": "code",
      "source": [
        "italy_bes.shape"
      ],
      "metadata": {
        "colab": {
          "base_uri": "https://localhost:8080/"
        },
        "id": "GoehZFPdv7jk",
        "outputId": "d3d74ce5-a4a6-4eaa-d9a6-a8d63c4d9375"
      },
      "execution_count": 109,
      "outputs": [
        {
          "output_type": "execute_result",
          "data": {
            "text/plain": [
              "(1494, 28)"
            ]
          },
          "metadata": {},
          "execution_count": 109
        }
      ]
    },
    {
      "cell_type": "markdown",
      "source": [
        "### Drop Rows and Columns\n",
        "I won't be needing the following columns:\n",
        "* domain\n",
        "* code\n",
        "* unit\n",
        "* source\n",
        "* note"
      ],
      "metadata": {
        "id": "nieMd8LixyYF"
      }
    },
    {
      "cell_type": "code",
      "source": [
        "#drop unwanted columns\n",
        "italy_bes = italy_bes.drop(columns = {'domain', 'code', 'unit', 'source', 'note'})\n",
        "\n",
        "#check to see if our most recent years has enough data for use\n",
        "print(italy_bes[2023].isna().sum())\n",
        "print(italy_bes[2022].isna().sum())\n",
        "print(italy_bes[2021].isna().sum())"
      ],
      "metadata": {
        "colab": {
          "base_uri": "https://localhost:8080/"
        },
        "id": "rpDLmvYq0ZYC",
        "outputId": "aa8b93cd-1e81-4717-9c30-460c275e806d"
      },
      "execution_count": 110,
      "outputs": [
        {
          "output_type": "stream",
          "name": "stdout",
          "text": [
            "1494\n",
            "605\n",
            "220\n"
          ]
        }
      ]
    },
    {
      "cell_type": "markdown",
      "source": [
        "I'll only be using data from one year to make my regional comparisons, and since all data from 2023 and half the data from 2022 is null, I'll be using data from 2021."
      ],
      "metadata": {
        "id": "6SIAxFWf06da"
      }
    },
    {
      "cell_type": "code",
      "source": [
        "italy_bes = italy_bes[['indicator', 'sex', 'territory', 2021]]"
      ],
      "metadata": {
        "id": "oHHhgM7Oyv3_"
      },
      "execution_count": 111,
      "outputs": []
    },
    {
      "cell_type": "markdown",
      "source": [
        "I believe it's time to visualize how my data is structured. Let's say my indicators are 'Robbery' and 'Urban green'. And let's assume there are two territories, 'Tuscan' and 'Lazio'. Here's how a year's data is represented for two indicators and two territories.\n",
        "\n",
        "indicator         | sex      |territory             |2021  \n",
        "------------------|----------|----------------------|--------  \n",
        "Robbery           |Males     |Tuscany               |value\n",
        "Robbery           |Males     |Lazio                 |value\n",
        "Robbery           |Females   |Tuscany               |value\n",
        "Robbery           |Females   |Lazio                 |value\n",
        "Robbery           |Total     |Tuscany               |value\n",
        "Robbery           |Total     |Lazio                 |value\n",
        "Urban green       |Males     |Tuscany               |value\n",
        "Urban green       |Males     |Lazio                 |value\n",
        "Urban green       |Females   |Tuscany               |value\n",
        "Urban green       |Females   |Lazio                 |value\n",
        "Urban green       |Total     |Tuscany               |value\n",
        "Urban green       |Total     |Lazio                 |value"
      ],
      "metadata": {
        "id": "XdQIUrvFPLPg"
      }
    },
    {
      "cell_type": "markdown",
      "source": [
        "This representation is redundant. It picks an indicator ('Robbery', for example), then divides it across genders ('Males', 'Females', 'Total'), then further divides it across regions ('Tuscany' and 'Lazio'). And then it repeats it for the next indicator."
      ],
      "metadata": {
        "id": "-hG-S36VYUfJ"
      }
    },
    {
      "cell_type": "markdown",
      "source": [
        "As a start, I can remove the arrows where 'sex' is 'Males' or 'Females' and simply keep 'Total', since gender distinction is irrelevant for my analyses."
      ],
      "metadata": {
        "id": "oPKeLrxnZjAR"
      }
    },
    {
      "cell_type": "code",
      "source": [
        "italy_bes = italy_bes[italy_bes['sex'] == 'Total']"
      ],
      "metadata": {
        "id": "GKC2901eZ6Ko"
      },
      "execution_count": 112,
      "outputs": []
    },
    {
      "cell_type": "code",
      "source": [
        "italy_bes.sample(10, random_state = 25)"
      ],
      "metadata": {
        "colab": {
          "base_uri": "https://localhost:8080/",
          "height": 363
        },
        "id": "b15P34NCbLtl",
        "outputId": "d87cbcf7-e41b-45a7-cfee-bb157b42dc45"
      },
      "execution_count": 113,
      "outputs": [
        {
          "output_type": "execute_result",
          "data": {
            "text/plain": [
              "                                              indicator    sex  \\\n",
              "6190  Current expenditure of Municipalities for culture  Total   \n",
              "2301            Cultural participation outside the home  Total   \n",
              "5398                                     Pick-pocketing  Total   \n",
              "5778                           Perception of crime risk  Total   \n",
              "5412                                            Robbery  Total   \n",
              "8460                                         Physicians  Total   \n",
              "5389                                     Pick-pocketing  Total   \n",
              "6866                            Protected natural areas  Total   \n",
              "8458                                         Physicians  Total   \n",
              "6214         Density and importance of musems' heritage  Total   \n",
              "\n",
              "                         territory  2021  \n",
              "6190             South and islands   NaN  \n",
              "2301                      Calabria   3.6  \n",
              "5398                    Basilicata   0.3  \n",
              "5778  Trentino-Alto Adige/Südtirol   9.2  \n",
              "5412                       Liguria   1.0  \n",
              "8460                       Sicilia   4.4  \n",
              "5389                Emilia-Romagna   4.3  \n",
              "6866                        Umbria  17.5  \n",
              "8458                    Basilicata   3.4  \n",
              "6214                       Sicilia   1.0  "
            ],
            "text/html": [
              "\n",
              "  <div id=\"df-453fca56-92a1-4aa6-b9d0-d737ed057cd8\" class=\"colab-df-container\">\n",
              "    <div>\n",
              "<style scoped>\n",
              "    .dataframe tbody tr th:only-of-type {\n",
              "        vertical-align: middle;\n",
              "    }\n",
              "\n",
              "    .dataframe tbody tr th {\n",
              "        vertical-align: top;\n",
              "    }\n",
              "\n",
              "    .dataframe thead th {\n",
              "        text-align: right;\n",
              "    }\n",
              "</style>\n",
              "<table border=\"1\" class=\"dataframe\">\n",
              "  <thead>\n",
              "    <tr style=\"text-align: right;\">\n",
              "      <th></th>\n",
              "      <th>indicator</th>\n",
              "      <th>sex</th>\n",
              "      <th>territory</th>\n",
              "      <th>2021</th>\n",
              "    </tr>\n",
              "  </thead>\n",
              "  <tbody>\n",
              "    <tr>\n",
              "      <th>6190</th>\n",
              "      <td>Current expenditure of Municipalities for culture</td>\n",
              "      <td>Total</td>\n",
              "      <td>South and islands</td>\n",
              "      <td>NaN</td>\n",
              "    </tr>\n",
              "    <tr>\n",
              "      <th>2301</th>\n",
              "      <td>Cultural participation outside the home</td>\n",
              "      <td>Total</td>\n",
              "      <td>Calabria</td>\n",
              "      <td>3.6</td>\n",
              "    </tr>\n",
              "    <tr>\n",
              "      <th>5398</th>\n",
              "      <td>Pick-pocketing</td>\n",
              "      <td>Total</td>\n",
              "      <td>Basilicata</td>\n",
              "      <td>0.3</td>\n",
              "    </tr>\n",
              "    <tr>\n",
              "      <th>5778</th>\n",
              "      <td>Perception of crime risk</td>\n",
              "      <td>Total</td>\n",
              "      <td>Trentino-Alto Adige/Südtirol</td>\n",
              "      <td>9.2</td>\n",
              "    </tr>\n",
              "    <tr>\n",
              "      <th>5412</th>\n",
              "      <td>Robbery</td>\n",
              "      <td>Total</td>\n",
              "      <td>Liguria</td>\n",
              "      <td>1.0</td>\n",
              "    </tr>\n",
              "    <tr>\n",
              "      <th>8460</th>\n",
              "      <td>Physicians</td>\n",
              "      <td>Total</td>\n",
              "      <td>Sicilia</td>\n",
              "      <td>4.4</td>\n",
              "    </tr>\n",
              "    <tr>\n",
              "      <th>5389</th>\n",
              "      <td>Pick-pocketing</td>\n",
              "      <td>Total</td>\n",
              "      <td>Emilia-Romagna</td>\n",
              "      <td>4.3</td>\n",
              "    </tr>\n",
              "    <tr>\n",
              "      <th>6866</th>\n",
              "      <td>Protected natural areas</td>\n",
              "      <td>Total</td>\n",
              "      <td>Umbria</td>\n",
              "      <td>17.5</td>\n",
              "    </tr>\n",
              "    <tr>\n",
              "      <th>8458</th>\n",
              "      <td>Physicians</td>\n",
              "      <td>Total</td>\n",
              "      <td>Basilicata</td>\n",
              "      <td>3.4</td>\n",
              "    </tr>\n",
              "    <tr>\n",
              "      <th>6214</th>\n",
              "      <td>Density and importance of musems' heritage</td>\n",
              "      <td>Total</td>\n",
              "      <td>Sicilia</td>\n",
              "      <td>1.0</td>\n",
              "    </tr>\n",
              "  </tbody>\n",
              "</table>\n",
              "</div>\n",
              "    <div class=\"colab-df-buttons\">\n",
              "\n",
              "  <div class=\"colab-df-container\">\n",
              "    <button class=\"colab-df-convert\" onclick=\"convertToInteractive('df-453fca56-92a1-4aa6-b9d0-d737ed057cd8')\"\n",
              "            title=\"Convert this dataframe to an interactive table.\"\n",
              "            style=\"display:none;\">\n",
              "\n",
              "  <svg xmlns=\"http://www.w3.org/2000/svg\" height=\"24px\" viewBox=\"0 -960 960 960\">\n",
              "    <path d=\"M120-120v-720h720v720H120Zm60-500h600v-160H180v160Zm220 220h160v-160H400v160Zm0 220h160v-160H400v160ZM180-400h160v-160H180v160Zm440 0h160v-160H620v160ZM180-180h160v-160H180v160Zm440 0h160v-160H620v160Z\"/>\n",
              "  </svg>\n",
              "    </button>\n",
              "\n",
              "  <style>\n",
              "    .colab-df-container {\n",
              "      display:flex;\n",
              "      gap: 12px;\n",
              "    }\n",
              "\n",
              "    .colab-df-convert {\n",
              "      background-color: #E8F0FE;\n",
              "      border: none;\n",
              "      border-radius: 50%;\n",
              "      cursor: pointer;\n",
              "      display: none;\n",
              "      fill: #1967D2;\n",
              "      height: 32px;\n",
              "      padding: 0 0 0 0;\n",
              "      width: 32px;\n",
              "    }\n",
              "\n",
              "    .colab-df-convert:hover {\n",
              "      background-color: #E2EBFA;\n",
              "      box-shadow: 0px 1px 2px rgba(60, 64, 67, 0.3), 0px 1px 3px 1px rgba(60, 64, 67, 0.15);\n",
              "      fill: #174EA6;\n",
              "    }\n",
              "\n",
              "    .colab-df-buttons div {\n",
              "      margin-bottom: 4px;\n",
              "    }\n",
              "\n",
              "    [theme=dark] .colab-df-convert {\n",
              "      background-color: #3B4455;\n",
              "      fill: #D2E3FC;\n",
              "    }\n",
              "\n",
              "    [theme=dark] .colab-df-convert:hover {\n",
              "      background-color: #434B5C;\n",
              "      box-shadow: 0px 1px 3px 1px rgba(0, 0, 0, 0.15);\n",
              "      filter: drop-shadow(0px 1px 2px rgba(0, 0, 0, 0.3));\n",
              "      fill: #FFFFFF;\n",
              "    }\n",
              "  </style>\n",
              "\n",
              "    <script>\n",
              "      const buttonEl =\n",
              "        document.querySelector('#df-453fca56-92a1-4aa6-b9d0-d737ed057cd8 button.colab-df-convert');\n",
              "      buttonEl.style.display =\n",
              "        google.colab.kernel.accessAllowed ? 'block' : 'none';\n",
              "\n",
              "      async function convertToInteractive(key) {\n",
              "        const element = document.querySelector('#df-453fca56-92a1-4aa6-b9d0-d737ed057cd8');\n",
              "        const dataTable =\n",
              "          await google.colab.kernel.invokeFunction('convertToInteractive',\n",
              "                                                    [key], {});\n",
              "        if (!dataTable) return;\n",
              "\n",
              "        const docLinkHtml = 'Like what you see? Visit the ' +\n",
              "          '<a target=\"_blank\" href=https://colab.research.google.com/notebooks/data_table.ipynb>data table notebook</a>'\n",
              "          + ' to learn more about interactive tables.';\n",
              "        element.innerHTML = '';\n",
              "        dataTable['output_type'] = 'display_data';\n",
              "        await google.colab.output.renderOutput(dataTable, element);\n",
              "        const docLink = document.createElement('div');\n",
              "        docLink.innerHTML = docLinkHtml;\n",
              "        element.appendChild(docLink);\n",
              "      }\n",
              "    </script>\n",
              "  </div>\n",
              "\n",
              "\n",
              "<div id=\"df-7cf13da6-1153-460e-a6c0-59149da35c36\">\n",
              "  <button class=\"colab-df-quickchart\" onclick=\"quickchart('df-7cf13da6-1153-460e-a6c0-59149da35c36')\"\n",
              "            title=\"Suggest charts.\"\n",
              "            style=\"display:none;\">\n",
              "\n",
              "<svg xmlns=\"http://www.w3.org/2000/svg\" height=\"24px\"viewBox=\"0 0 24 24\"\n",
              "     width=\"24px\">\n",
              "    <g>\n",
              "        <path d=\"M19 3H5c-1.1 0-2 .9-2 2v14c0 1.1.9 2 2 2h14c1.1 0 2-.9 2-2V5c0-1.1-.9-2-2-2zM9 17H7v-7h2v7zm4 0h-2V7h2v10zm4 0h-2v-4h2v4z\"/>\n",
              "    </g>\n",
              "</svg>\n",
              "  </button>\n",
              "\n",
              "<style>\n",
              "  .colab-df-quickchart {\n",
              "      --bg-color: #E8F0FE;\n",
              "      --fill-color: #1967D2;\n",
              "      --hover-bg-color: #E2EBFA;\n",
              "      --hover-fill-color: #174EA6;\n",
              "      --disabled-fill-color: #AAA;\n",
              "      --disabled-bg-color: #DDD;\n",
              "  }\n",
              "\n",
              "  [theme=dark] .colab-df-quickchart {\n",
              "      --bg-color: #3B4455;\n",
              "      --fill-color: #D2E3FC;\n",
              "      --hover-bg-color: #434B5C;\n",
              "      --hover-fill-color: #FFFFFF;\n",
              "      --disabled-bg-color: #3B4455;\n",
              "      --disabled-fill-color: #666;\n",
              "  }\n",
              "\n",
              "  .colab-df-quickchart {\n",
              "    background-color: var(--bg-color);\n",
              "    border: none;\n",
              "    border-radius: 50%;\n",
              "    cursor: pointer;\n",
              "    display: none;\n",
              "    fill: var(--fill-color);\n",
              "    height: 32px;\n",
              "    padding: 0;\n",
              "    width: 32px;\n",
              "  }\n",
              "\n",
              "  .colab-df-quickchart:hover {\n",
              "    background-color: var(--hover-bg-color);\n",
              "    box-shadow: 0 1px 2px rgba(60, 64, 67, 0.3), 0 1px 3px 1px rgba(60, 64, 67, 0.15);\n",
              "    fill: var(--button-hover-fill-color);\n",
              "  }\n",
              "\n",
              "  .colab-df-quickchart-complete:disabled,\n",
              "  .colab-df-quickchart-complete:disabled:hover {\n",
              "    background-color: var(--disabled-bg-color);\n",
              "    fill: var(--disabled-fill-color);\n",
              "    box-shadow: none;\n",
              "  }\n",
              "\n",
              "  .colab-df-spinner {\n",
              "    border: 2px solid var(--fill-color);\n",
              "    border-color: transparent;\n",
              "    border-bottom-color: var(--fill-color);\n",
              "    animation:\n",
              "      spin 1s steps(1) infinite;\n",
              "  }\n",
              "\n",
              "  @keyframes spin {\n",
              "    0% {\n",
              "      border-color: transparent;\n",
              "      border-bottom-color: var(--fill-color);\n",
              "      border-left-color: var(--fill-color);\n",
              "    }\n",
              "    20% {\n",
              "      border-color: transparent;\n",
              "      border-left-color: var(--fill-color);\n",
              "      border-top-color: var(--fill-color);\n",
              "    }\n",
              "    30% {\n",
              "      border-color: transparent;\n",
              "      border-left-color: var(--fill-color);\n",
              "      border-top-color: var(--fill-color);\n",
              "      border-right-color: var(--fill-color);\n",
              "    }\n",
              "    40% {\n",
              "      border-color: transparent;\n",
              "      border-right-color: var(--fill-color);\n",
              "      border-top-color: var(--fill-color);\n",
              "    }\n",
              "    60% {\n",
              "      border-color: transparent;\n",
              "      border-right-color: var(--fill-color);\n",
              "    }\n",
              "    80% {\n",
              "      border-color: transparent;\n",
              "      border-right-color: var(--fill-color);\n",
              "      border-bottom-color: var(--fill-color);\n",
              "    }\n",
              "    90% {\n",
              "      border-color: transparent;\n",
              "      border-bottom-color: var(--fill-color);\n",
              "    }\n",
              "  }\n",
              "</style>\n",
              "\n",
              "  <script>\n",
              "    async function quickchart(key) {\n",
              "      const quickchartButtonEl =\n",
              "        document.querySelector('#' + key + ' button');\n",
              "      quickchartButtonEl.disabled = true;  // To prevent multiple clicks.\n",
              "      quickchartButtonEl.classList.add('colab-df-spinner');\n",
              "      try {\n",
              "        const charts = await google.colab.kernel.invokeFunction(\n",
              "            'suggestCharts', [key], {});\n",
              "      } catch (error) {\n",
              "        console.error('Error during call to suggestCharts:', error);\n",
              "      }\n",
              "      quickchartButtonEl.classList.remove('colab-df-spinner');\n",
              "      quickchartButtonEl.classList.add('colab-df-quickchart-complete');\n",
              "    }\n",
              "    (() => {\n",
              "      let quickchartButtonEl =\n",
              "        document.querySelector('#df-7cf13da6-1153-460e-a6c0-59149da35c36 button');\n",
              "      quickchartButtonEl.style.display =\n",
              "        google.colab.kernel.accessAllowed ? 'block' : 'none';\n",
              "    })();\n",
              "  </script>\n",
              "</div>\n",
              "    </div>\n",
              "  </div>\n"
            ]
          },
          "metadata": {},
          "execution_count": 113
        }
      ]
    },
    {
      "cell_type": "markdown",
      "source": [
        "Now, I can drop the 'sex' column since it's of no use."
      ],
      "metadata": {
        "id": "TUmgK-cJbSoF"
      }
    },
    {
      "cell_type": "code",
      "source": [
        "italy_bes = italy_bes.drop(columns = 'sex')\n",
        "\n",
        "italy_bes['territory'].unique() #look at the unique values in our territory column"
      ],
      "metadata": {
        "id": "bzGKT4JSbYw2",
        "colab": {
          "base_uri": "https://localhost:8080/"
        },
        "outputId": "39879e0f-362c-4719-8431-247c7e72c0b7"
      },
      "execution_count": 114,
      "outputs": [
        {
          "output_type": "execute_result",
          "data": {
            "text/plain": [
              "array(['Piemonte', \"Valle d'Aosta/Vallée d'Aoste\", 'Liguria', 'Lombardia',\n",
              "       'Trentino-Alto Adige/Südtirol',\n",
              "       'Provincia Autonoma di Bolzano/Bozen',\n",
              "       'Provincia Autonoma di Trento', 'Veneto', 'Friuli-Venezia Giulia',\n",
              "       'Emilia-Romagna', 'Toscana', 'Umbria', 'Marche', 'Lazio',\n",
              "       'Abruzzo', 'Molise', 'Campania', 'Puglia', 'Basilicata',\n",
              "       'Calabria', 'Sicilia', 'Sardegna', 'North', 'North-west',\n",
              "       'North-east', 'Centre', 'South and islands', 'South', 'Islands',\n",
              "       'Italy'], dtype=object)"
            ]
          },
          "metadata": {},
          "execution_count": 114
        }
      ]
    },
    {
      "cell_type": "markdown",
      "source": [
        "In addition to the 20 regions and 5 macroregions, the data has 5 extra values for the territory column. Here are the reasons why:\n",
        "* 2 provinces, Bolzano/Bozen and Trento, have been given their own values (possibly with the aim of enabling taking a closer look at these provinces). But, both of these provinces are already represented under one of the 20 regions, so their distinction serves no purpose in the setting of this project which aims to compare the 20 regions and 5 macroregions.  \n",
        "\n",
        "* North-west and North-east macroregions have been grouped into one 'North' cluster. 'South' and 'Islands' have also been grouped into one 'South and islands' geographical cluster. However, each of the components of the 'North' and 'South and islands' clusters have their values recorded ('North-west', 'North-east', 'South', and 'Islands') and composite clusters aren't needed in the scope of this project.  \n",
        "\n",
        "* The country's overall statistics are also recorded under the value 'Italy', which again serves no pupose in this project."
      ],
      "metadata": {
        "id": "WqM8b3PDjbee"
      }
    },
    {
      "cell_type": "code",
      "source": [
        "#create a new dataset for the 5 macroregions\n",
        "italy_bes_cluster = italy_bes[italy_bes['territory'].isin(['North-west', 'North-east',\n",
        "                                                           'Centre', 'South', 'Islands'])]\n",
        "\n",
        "#drop rows of the 5 macroregions as well as the 5 extra territories\n",
        "italy_bes = italy_bes[~italy_bes['territory'].isin(['Provincia Autonoma di Bolzano/Bozen',\n",
        "                                                    'Provincia Autonoma di Trento', 'North',\n",
        "                                                    'North-west', 'North-east', 'Centre',\n",
        "                                                    'South and islands', 'South', 'Islands', 'Italy'])]"
      ],
      "metadata": {
        "id": "FmJuG48Fja5B"
      },
      "execution_count": 115,
      "outputs": []
    },
    {
      "cell_type": "code",
      "source": [
        "italy_bes.sample(5, random_state = 64)"
      ],
      "metadata": {
        "colab": {
          "base_uri": "https://localhost:8080/",
          "height": 206
        },
        "id": "nktE9BjIbmvT",
        "outputId": "e6d829cf-eb85-4e00-c230-df0a69302fe1"
      },
      "execution_count": 116,
      "outputs": [
        {
          "output_type": "execute_result",
          "data": {
            "text/plain": [
              "                      indicator                            territory  2021\n",
              "8460                 Physicians                              Sicilia   4.4\n",
              "6659  Warm Spell Duration Index                              Abruzzo  32.5\n",
              "5792   Perception of crime risk                           Basilicata  12.3\n",
              "5385             Pick-pocketing  Provincia Autonoma di Bolzano/Bozen   2.5\n",
              "4647          Generalized trust                               Puglia  20.1"
            ],
            "text/html": [
              "\n",
              "  <div id=\"df-6a82495c-d56e-44bb-9d42-8896101824bd\" class=\"colab-df-container\">\n",
              "    <div>\n",
              "<style scoped>\n",
              "    .dataframe tbody tr th:only-of-type {\n",
              "        vertical-align: middle;\n",
              "    }\n",
              "\n",
              "    .dataframe tbody tr th {\n",
              "        vertical-align: top;\n",
              "    }\n",
              "\n",
              "    .dataframe thead th {\n",
              "        text-align: right;\n",
              "    }\n",
              "</style>\n",
              "<table border=\"1\" class=\"dataframe\">\n",
              "  <thead>\n",
              "    <tr style=\"text-align: right;\">\n",
              "      <th></th>\n",
              "      <th>indicator</th>\n",
              "      <th>territory</th>\n",
              "      <th>2021</th>\n",
              "    </tr>\n",
              "  </thead>\n",
              "  <tbody>\n",
              "    <tr>\n",
              "      <th>8460</th>\n",
              "      <td>Physicians</td>\n",
              "      <td>Sicilia</td>\n",
              "      <td>4.4</td>\n",
              "    </tr>\n",
              "    <tr>\n",
              "      <th>6659</th>\n",
              "      <td>Warm Spell Duration Index</td>\n",
              "      <td>Abruzzo</td>\n",
              "      <td>32.5</td>\n",
              "    </tr>\n",
              "    <tr>\n",
              "      <th>5792</th>\n",
              "      <td>Perception of crime risk</td>\n",
              "      <td>Basilicata</td>\n",
              "      <td>12.3</td>\n",
              "    </tr>\n",
              "    <tr>\n",
              "      <th>5385</th>\n",
              "      <td>Pick-pocketing</td>\n",
              "      <td>Provincia Autonoma di Bolzano/Bozen</td>\n",
              "      <td>2.5</td>\n",
              "    </tr>\n",
              "    <tr>\n",
              "      <th>4647</th>\n",
              "      <td>Generalized trust</td>\n",
              "      <td>Puglia</td>\n",
              "      <td>20.1</td>\n",
              "    </tr>\n",
              "  </tbody>\n",
              "</table>\n",
              "</div>\n",
              "    <div class=\"colab-df-buttons\">\n",
              "\n",
              "  <div class=\"colab-df-container\">\n",
              "    <button class=\"colab-df-convert\" onclick=\"convertToInteractive('df-6a82495c-d56e-44bb-9d42-8896101824bd')\"\n",
              "            title=\"Convert this dataframe to an interactive table.\"\n",
              "            style=\"display:none;\">\n",
              "\n",
              "  <svg xmlns=\"http://www.w3.org/2000/svg\" height=\"24px\" viewBox=\"0 -960 960 960\">\n",
              "    <path d=\"M120-120v-720h720v720H120Zm60-500h600v-160H180v160Zm220 220h160v-160H400v160Zm0 220h160v-160H400v160ZM180-400h160v-160H180v160Zm440 0h160v-160H620v160ZM180-180h160v-160H180v160Zm440 0h160v-160H620v160Z\"/>\n",
              "  </svg>\n",
              "    </button>\n",
              "\n",
              "  <style>\n",
              "    .colab-df-container {\n",
              "      display:flex;\n",
              "      gap: 12px;\n",
              "    }\n",
              "\n",
              "    .colab-df-convert {\n",
              "      background-color: #E8F0FE;\n",
              "      border: none;\n",
              "      border-radius: 50%;\n",
              "      cursor: pointer;\n",
              "      display: none;\n",
              "      fill: #1967D2;\n",
              "      height: 32px;\n",
              "      padding: 0 0 0 0;\n",
              "      width: 32px;\n",
              "    }\n",
              "\n",
              "    .colab-df-convert:hover {\n",
              "      background-color: #E2EBFA;\n",
              "      box-shadow: 0px 1px 2px rgba(60, 64, 67, 0.3), 0px 1px 3px 1px rgba(60, 64, 67, 0.15);\n",
              "      fill: #174EA6;\n",
              "    }\n",
              "\n",
              "    .colab-df-buttons div {\n",
              "      margin-bottom: 4px;\n",
              "    }\n",
              "\n",
              "    [theme=dark] .colab-df-convert {\n",
              "      background-color: #3B4455;\n",
              "      fill: #D2E3FC;\n",
              "    }\n",
              "\n",
              "    [theme=dark] .colab-df-convert:hover {\n",
              "      background-color: #434B5C;\n",
              "      box-shadow: 0px 1px 3px 1px rgba(0, 0, 0, 0.15);\n",
              "      filter: drop-shadow(0px 1px 2px rgba(0, 0, 0, 0.3));\n",
              "      fill: #FFFFFF;\n",
              "    }\n",
              "  </style>\n",
              "\n",
              "    <script>\n",
              "      const buttonEl =\n",
              "        document.querySelector('#df-6a82495c-d56e-44bb-9d42-8896101824bd button.colab-df-convert');\n",
              "      buttonEl.style.display =\n",
              "        google.colab.kernel.accessAllowed ? 'block' : 'none';\n",
              "\n",
              "      async function convertToInteractive(key) {\n",
              "        const element = document.querySelector('#df-6a82495c-d56e-44bb-9d42-8896101824bd');\n",
              "        const dataTable =\n",
              "          await google.colab.kernel.invokeFunction('convertToInteractive',\n",
              "                                                    [key], {});\n",
              "        if (!dataTable) return;\n",
              "\n",
              "        const docLinkHtml = 'Like what you see? Visit the ' +\n",
              "          '<a target=\"_blank\" href=https://colab.research.google.com/notebooks/data_table.ipynb>data table notebook</a>'\n",
              "          + ' to learn more about interactive tables.';\n",
              "        element.innerHTML = '';\n",
              "        dataTable['output_type'] = 'display_data';\n",
              "        await google.colab.output.renderOutput(dataTable, element);\n",
              "        const docLink = document.createElement('div');\n",
              "        docLink.innerHTML = docLinkHtml;\n",
              "        element.appendChild(docLink);\n",
              "      }\n",
              "    </script>\n",
              "  </div>\n",
              "\n",
              "\n",
              "<div id=\"df-00a32d62-31b4-431a-8c9b-b8a6a39d0188\">\n",
              "  <button class=\"colab-df-quickchart\" onclick=\"quickchart('df-00a32d62-31b4-431a-8c9b-b8a6a39d0188')\"\n",
              "            title=\"Suggest charts.\"\n",
              "            style=\"display:none;\">\n",
              "\n",
              "<svg xmlns=\"http://www.w3.org/2000/svg\" height=\"24px\"viewBox=\"0 0 24 24\"\n",
              "     width=\"24px\">\n",
              "    <g>\n",
              "        <path d=\"M19 3H5c-1.1 0-2 .9-2 2v14c0 1.1.9 2 2 2h14c1.1 0 2-.9 2-2V5c0-1.1-.9-2-2-2zM9 17H7v-7h2v7zm4 0h-2V7h2v10zm4 0h-2v-4h2v4z\"/>\n",
              "    </g>\n",
              "</svg>\n",
              "  </button>\n",
              "\n",
              "<style>\n",
              "  .colab-df-quickchart {\n",
              "      --bg-color: #E8F0FE;\n",
              "      --fill-color: #1967D2;\n",
              "      --hover-bg-color: #E2EBFA;\n",
              "      --hover-fill-color: #174EA6;\n",
              "      --disabled-fill-color: #AAA;\n",
              "      --disabled-bg-color: #DDD;\n",
              "  }\n",
              "\n",
              "  [theme=dark] .colab-df-quickchart {\n",
              "      --bg-color: #3B4455;\n",
              "      --fill-color: #D2E3FC;\n",
              "      --hover-bg-color: #434B5C;\n",
              "      --hover-fill-color: #FFFFFF;\n",
              "      --disabled-bg-color: #3B4455;\n",
              "      --disabled-fill-color: #666;\n",
              "  }\n",
              "\n",
              "  .colab-df-quickchart {\n",
              "    background-color: var(--bg-color);\n",
              "    border: none;\n",
              "    border-radius: 50%;\n",
              "    cursor: pointer;\n",
              "    display: none;\n",
              "    fill: var(--fill-color);\n",
              "    height: 32px;\n",
              "    padding: 0;\n",
              "    width: 32px;\n",
              "  }\n",
              "\n",
              "  .colab-df-quickchart:hover {\n",
              "    background-color: var(--hover-bg-color);\n",
              "    box-shadow: 0 1px 2px rgba(60, 64, 67, 0.3), 0 1px 3px 1px rgba(60, 64, 67, 0.15);\n",
              "    fill: var(--button-hover-fill-color);\n",
              "  }\n",
              "\n",
              "  .colab-df-quickchart-complete:disabled,\n",
              "  .colab-df-quickchart-complete:disabled:hover {\n",
              "    background-color: var(--disabled-bg-color);\n",
              "    fill: var(--disabled-fill-color);\n",
              "    box-shadow: none;\n",
              "  }\n",
              "\n",
              "  .colab-df-spinner {\n",
              "    border: 2px solid var(--fill-color);\n",
              "    border-color: transparent;\n",
              "    border-bottom-color: var(--fill-color);\n",
              "    animation:\n",
              "      spin 1s steps(1) infinite;\n",
              "  }\n",
              "\n",
              "  @keyframes spin {\n",
              "    0% {\n",
              "      border-color: transparent;\n",
              "      border-bottom-color: var(--fill-color);\n",
              "      border-left-color: var(--fill-color);\n",
              "    }\n",
              "    20% {\n",
              "      border-color: transparent;\n",
              "      border-left-color: var(--fill-color);\n",
              "      border-top-color: var(--fill-color);\n",
              "    }\n",
              "    30% {\n",
              "      border-color: transparent;\n",
              "      border-left-color: var(--fill-color);\n",
              "      border-top-color: var(--fill-color);\n",
              "      border-right-color: var(--fill-color);\n",
              "    }\n",
              "    40% {\n",
              "      border-color: transparent;\n",
              "      border-right-color: var(--fill-color);\n",
              "      border-top-color: var(--fill-color);\n",
              "    }\n",
              "    60% {\n",
              "      border-color: transparent;\n",
              "      border-right-color: var(--fill-color);\n",
              "    }\n",
              "    80% {\n",
              "      border-color: transparent;\n",
              "      border-right-color: var(--fill-color);\n",
              "      border-bottom-color: var(--fill-color);\n",
              "    }\n",
              "    90% {\n",
              "      border-color: transparent;\n",
              "      border-bottom-color: var(--fill-color);\n",
              "    }\n",
              "  }\n",
              "</style>\n",
              "\n",
              "  <script>\n",
              "    async function quickchart(key) {\n",
              "      const quickchartButtonEl =\n",
              "        document.querySelector('#' + key + ' button');\n",
              "      quickchartButtonEl.disabled = true;  // To prevent multiple clicks.\n",
              "      quickchartButtonEl.classList.add('colab-df-spinner');\n",
              "      try {\n",
              "        const charts = await google.colab.kernel.invokeFunction(\n",
              "            'suggestCharts', [key], {});\n",
              "      } catch (error) {\n",
              "        console.error('Error during call to suggestCharts:', error);\n",
              "      }\n",
              "      quickchartButtonEl.classList.remove('colab-df-spinner');\n",
              "      quickchartButtonEl.classList.add('colab-df-quickchart-complete');\n",
              "    }\n",
              "    (() => {\n",
              "      let quickchartButtonEl =\n",
              "        document.querySelector('#df-00a32d62-31b4-431a-8c9b-b8a6a39d0188 button');\n",
              "      quickchartButtonEl.style.display =\n",
              "        google.colab.kernel.accessAllowed ? 'block' : 'none';\n",
              "    })();\n",
              "  </script>\n",
              "</div>\n",
              "    </div>\n",
              "  </div>\n"
            ]
          },
          "metadata": {},
          "execution_count": 116
        }
      ]
    },
    {
      "cell_type": "markdown",
      "source": [
        "### Transposing Rows and Columns"
      ],
      "metadata": {
        "id": "UNrl2JYQieZ6"
      }
    },
    {
      "cell_type": "markdown",
      "source": [
        "I only have three columns left now. And even though I have gotten rid of the redundance based on sex, there still remains another repetition based on territory(region).  \n",
        "Something else, I want to do is make the values inside the 'indicator' column into headers for columns themselves (note that I can't use the transpose method here because it'd result in a wrong dataset because of the repitition in our 'territory' column)."
      ],
      "metadata": {
        "id": "AztBalLOb3tk"
      }
    },
    {
      "cell_type": "code",
      "source": [
        "#create a list of all the unique territories\n",
        "region_list = np.array(italy_bes['territory'].unique())\n",
        "\n",
        "#iterate through our good_indicators list that we compiled earlier\n",
        "for col in good_indicators:\n",
        "\n",
        "  #create new columns for all the indicators and fill their rows with numpy nan\n",
        "  italy_bes[col] = np.nan"
      ],
      "metadata": {
        "id": "oZVPdde6cpd4"
      },
      "execution_count": 117,
      "outputs": []
    },
    {
      "cell_type": "code",
      "source": [
        "#iterate through the list of regions\n",
        "for reg in region_list:\n",
        "\n",
        "  #iterate through the list of good indicators\n",
        "  for indicate in good_indicators:\n",
        "\n",
        "    #find the value at 2021 for a cell whose indicator and territory values match 'reg' and 'indicate'\n",
        "    x = italy_bes.loc[(italy_bes['indicator'] == indicate) & (italy_bes['territory'] == reg), 2021].values[0]\n",
        "\n",
        "    #On the newly created column that matches 'indicate' and 'reg', put the value of 'x'\n",
        "    italy_bes.loc[italy_bes['territory'] == reg, indicate] = x"
      ],
      "metadata": {
        "id": "oQa1WH6le_w6"
      },
      "execution_count": 118,
      "outputs": []
    },
    {
      "cell_type": "markdown",
      "source": [
        "After the above operation, we can get rid of the territory repetitions, as well as the '2021' and 'indicator' columns."
      ],
      "metadata": {
        "id": "TieMxPAQgt2E"
      }
    },
    {
      "cell_type": "code",
      "source": [
        "#drop rows with duplicate territories\n",
        "italy_bes = italy_bes.drop_duplicates(subset = ['territory'])\n",
        "\n",
        "#drop the now-obsolete indicator and 2021 columns\n",
        "italy_bes = italy_bes.drop(columns = ['indicator', 2021])"
      ],
      "metadata": {
        "id": "3Lmxr1lzgtMQ"
      },
      "execution_count": 119,
      "outputs": []
    },
    {
      "cell_type": "code",
      "source": [
        "italy_bes.shape"
      ],
      "metadata": {
        "colab": {
          "base_uri": "https://localhost:8080/"
        },
        "id": "3ElO0DJchLcy",
        "outputId": "e3c2600d-8fee-44bb-cff2-fd7e3b0673f1"
      },
      "execution_count": 120,
      "outputs": [
        {
          "output_type": "execute_result",
          "data": {
            "text/plain": [
              "(22, 34)"
            ]
          },
          "metadata": {},
          "execution_count": 120
        }
      ]
    },
    {
      "cell_type": "markdown",
      "source": [
        "### Renaming Columns"
      ],
      "metadata": {
        "id": "AL9Ne8gQjpIR"
      }
    },
    {
      "cell_type": "code",
      "source": [
        "new_columns = ['territory', 'road_accident_mortality', 'culutral_participation', 'book_reading', 'library_use',\n",
        "           'general_trust', 'social_participation', 'police_trust', 'homicide', 'burglary', 'pick_pocketing',\n",
        "           'robbery', 'physical_violence_women', 'sexual_violence_women', 'partner_violence', 'sexual_violence_fear',\n",
        "           'nightwalk_safety', 'concrete_fear', 'social_decay', 'crime_risk_perception', 'culture_budget',\n",
        "           'heritage_density', 'urban_park_presence', 'rural_tourism', 'air_quality', 'warm_spell_index',\n",
        "           'urban_green', 'protected_natural_areas', 'physicians', 'service_accessibility',\n",
        "           'electric_shortage', 'water_shortage', 'network_coverage', 'public_transport']\n",
        "\n",
        "\n",
        "italy_bes.columns.values[0:34] = new_columns"
      ],
      "metadata": {
        "id": "WyygkeVOjdun"
      },
      "execution_count": 121,
      "outputs": []
    },
    {
      "cell_type": "markdown",
      "source": [
        "Now that my data contains a lot fewer variables than the original, it's also a bit easier to describe. Below is a table describing each of the above features."
      ],
      "metadata": {
        "id": "R81_41x89mmV"
      }
    },
    {
      "cell_type": "markdown",
      "source": [
        "Feature | Description             | Unit\n",
        "--------|-------------------------|-----\n",
        "region  |a province or territory in Italy|Region names\n",
        "road_accident_morality|Number of deaths by road accidents|Per 1,000 residents\n",
        "cultural_participation|People who did 2 or more outdoor activities in the past year|Percentage\n",
        "book_reading|People who read 4 or more books a year|Percentage\n",
        "library_use|People who went to the library once or more in a year|Percentage\n",
        "general_trust|People who feel others are worthy of trust|Percentage\n",
        "social_participation|People who have done one or more social activity in the past year|Percentage\n",
        "police_trust|Scale of trust in police & fire brigade (0-10), worst to best|Mean score\n",
        "homicide|Number of intentional homicides|Per 1,000 residents\n",
        "burglary|Number of burglary victims|Per 1,000 households\n",
        "pick_pocketing|Number of victims of pick pocketing|Per 1,000 residents\n",
        "robbery|Number of robbery victims|Per 1,000 residents\n",
        "physical_violence_women|Female victims of physical violence (last 5 years)|Percentage\n",
        "sexual_violence_women|Female victims of sexual violence (last 5 years)|Percentage\n",
        "partner_violence|Physical/sexual violence by partner or ex-partner (last 5 years)|Percentage\n",
        "sexual_violence_fear|People with fear of sexual violence on themselves or family|Percentage\n",
        "nightwalk_safety|People who feel safe walking alone at night|Percentage\n",
        "concrete_fear|People afraid of becoming concretely crime victimes|Percentage\n",
        "social_decay|People who notice elements of social decay (drugs, prostitutes, etc)|Percentage\n",
        "crime_risk_perception|Households declaring high risk of crime|Percentage\n",
        "culture_budget|Expenditure of municpalities to preserve cultural properties/activities|Euro per capita\n",
        "heritage_density|Number of permanent exhibition facilities (museums, etc)|Per 100 sq.km\n",
        "urban_park_presence|Total area of all parks in the region|Per 100 sq.m of land\n",
        "rural_tourism|Number of farmhouses|Per 100 sq.km\n",
        "urban_green|Sq. meters of urban gardens in provincial capitals per inhabitants|Sq. M per resident\n",
        "protected_natural_areas|Percentage share of terrestrial protected areas|Percentage\n",
        "physicians|Number of physicians|Per 1,000 residents\n",
        "service_accessibility|Percentage of households who find it difficult to reach basic services|Percentage\n",
        "electric_shortage|Number of power cuts (>3 minutes) without notice|Per user\n",
        "water_shortage|Percentage of households reporting irregularities in water supply|Percentage\n",
        "network_coverage|Percentage of households served by high capacity networks|Percentage\n",
        "public_transport|Seat-km per capita of public transport networks in provincial capitals|Seat-km per resident"
      ],
      "metadata": {
        "id": "smDAuIek97-j"
      }
    },
    {
      "cell_type": "markdown",
      "source": [
        "##EDA"
      ],
      "metadata": {
        "id": "L7KKCjArp_0n"
      }
    },
    {
      "cell_type": "code",
      "source": [],
      "metadata": {
        "id": "NfutCGFNqJbK"
      },
      "execution_count": null,
      "outputs": []
    },
    {
      "cell_type": "markdown",
      "source": [
        "##Conclusion\n",
        "1. Based on my investigations, what are the top 3 regions I'd like to visit?\n",
        "\n",
        "Police trust (5 or more)  \n",
        "Rate 1 to 3 based on heritage & environmental beauty.\n",
        "\n",
        "\n",
        "\n",
        "2. What about the top 3 regions I'd like to live in for about a year?  \n",
        "\n",
        "Police trust (5 or more)  \n",
        "\n",
        "Rate 1 to 3 based on service accessibility and life satisfaction.\n",
        "\n",
        "3. What regional clusters would I like to live in?\n",
        "\n",
        "Police trust (5 or more)\n",
        "Service accessibility (more than the median)\n",
        "Rate 1 to 3 based on heritage density. The closer heritage places there are the more I want to live there."
      ],
      "metadata": {
        "id": "o7RnbSfnqXCw"
      }
    }
  ]
}