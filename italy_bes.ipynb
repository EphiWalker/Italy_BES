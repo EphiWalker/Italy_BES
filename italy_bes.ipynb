{
  "nbformat": 4,
  "nbformat_minor": 0,
  "metadata": {
    "colab": {
      "provenance": [],
      "authorship_tag": "ABX9TyMq/LH5I+6T+0g0buv2bNer",
      "include_colab_link": true
    },
    "kernelspec": {
      "name": "python3",
      "display_name": "Python 3"
    },
    "language_info": {
      "name": "python"
    }
  },
  "cells": [
    {
      "cell_type": "markdown",
      "metadata": {
        "id": "view-in-github",
        "colab_type": "text"
      },
      "source": [
        "<a href=\"https://colab.research.google.com/github/EphiWalker/italy_bes/blob/main/italy_bes.ipynb\" target=\"_parent\"><img src=\"https://colab.research.google.com/assets/colab-badge.svg\" alt=\"Open In Colab\"/></a>"
      ]
    },
    {
      "cell_type": "markdown",
      "source": [
        "#Comparing BES score of Florence with the rest of Italy"
      ],
      "metadata": {
        "id": "m9W17iQHTV07"
      }
    },
    {
      "cell_type": "markdown",
      "source": [
        "I love Florence, Italy. I've always wanted to go there to visit and perhaps live a year or two. But, I wonder, could there be other parts of Italy I should visit or live in rather than Florence?"
      ],
      "metadata": {
        "id": "9ezeoWkfTeuk"
      }
    },
    {
      "cell_type": "markdown",
      "source": [
        "##Italy's BES System\n",
        "BES(Benessere Equo e Sostenibile) is a system Italy uses to measure the well-being and sustainability of its societies across genders, age groups and provinces by taking measurements of several indicators grouped under 12 fundamental domains like Social Relationships or Work-Life Balance.  \n",
        "  \n",
        "The dataset I'll be using is compiled by Istituto Nazionale de Statistica (the Italian National Statistical Institute) and it can be found [here](https://www.istat.it/en/well-being-and-sustainability/the-measurement-of-well-being/indicators)."
      ],
      "metadata": {
        "id": "tQtB7-orT9aD"
      }
    },
    {
      "cell_type": "markdown",
      "source": [
        "##Table of Contents\n",
        "* Questions\n",
        "* Data Cleaning & Manipulation\n",
        "* Exploratory Data Analysis (EDA)\n",
        "* Conclusions"
      ],
      "metadata": {
        "id": "ypYvU77tjRLa"
      }
    },
    {
      "cell_type": "markdown",
      "source": [
        "##Questions I'd Like Answered\n",
        "1. How safe is Florence compared to other cities/provinces in Italy?\n",
        "2. What are some of the best historically significant regions in Italy?\n",
        "3. Is Florence environmentally a safe place to live?\n",
        "4. What province is best suited to my field of work?\n",
        "5. In case of emergencies, which parts of Italy have better healthcare systems?\n",
        "6. Which part of Italy has people with the strongest reading habits? I'd love to know this because I believe well-read people have very interesting ideas to share and I'd love to befriend some well-read people in Italy. Also, it's nice to have a friend that shares my reading habits.\n",
        "7. How socially active are the people of Florence compared to other parts of Italy? I'd love to live among a socially vibrant community.\n",
        "8. How distributed is social trust in Italy's different regions?\n",
        "9. How trustworthy are the Police in Florence compared to other parts of Italy?\n",
        "10.  Based on my investigations, what are the top 3 regions I'd like to visit? What about the top 3 regions I'd like to live in?"
      ],
      "metadata": {
        "id": "AgIgEn3QYNOm"
      }
    },
    {
      "cell_type": "markdown",
      "source": [
        "##Data Cleaning & Manipulation"
      ],
      "metadata": {
        "id": "ySbOuxDLiqUX"
      }
    },
    {
      "cell_type": "markdown",
      "source": [
        "I'll start by loading the data from my own github repo for datasets I use in my projects."
      ],
      "metadata": {
        "id": "IDQn_NVMjo3h"
      }
    },
    {
      "cell_type": "code",
      "execution_count": 1,
      "metadata": {
        "id": "hIyUHbxjTRyX"
      },
      "outputs": [],
      "source": [
        "import pandas as pd\n",
        "import matplotlib.pyplot as plt\n",
        "import seaborn as sns\n",
        "\n",
        "italy_bes = pd.read_excel('https://github.com/EphiWalker/datasets/raw/main/Indicators_region_gender.xlsx')"
      ]
    }
  ]
}